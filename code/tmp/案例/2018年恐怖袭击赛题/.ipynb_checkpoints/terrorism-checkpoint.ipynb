{
 "cells": [
  {
   "cell_type": "markdown",
   "id": "33b02c16-447c-497d-b0fc-39cab084af0a",
   "metadata": {},
   "source": [
    "# 1、导入包"
   ]
  },
  {
   "cell_type": "code",
   "execution_count": 38,
   "id": "d9a05e4e-4f8d-4814-b5ab-e2120e5ef6d6",
   "metadata": {},
   "outputs": [],
   "source": [
    "import pandas as pd\n",
    "import numpy as np\n",
    "from matplotlib import pyplot as plt"
   ]
  },
  {
   "cell_type": "markdown",
   "id": "58b2d584-c70d-4621-8f4a-30e4ee5f3790",
   "metadata": {},
   "source": [
    "# 2、读取数据"
   ]
  },
  {
   "cell_type": "code",
   "execution_count": 39,
   "id": "05d009cc-a927-49e5-afc3-73459653c3da",
   "metadata": {},
   "outputs": [],
   "source": [
    "terrorism_data = pd.read_excel(\"附件1.xlsx\",sheet_name='Data')"
   ]
  },
  {
   "cell_type": "code",
   "execution_count": 40,
   "id": "bf99b07d-11cb-4c48-90a2-782b6eb2e534",
   "metadata": {},
   "outputs": [
    {
     "data": {
      "text/html": [
       "<div>\n",
       "<style scoped>\n",
       "    .dataframe tbody tr th:only-of-type {\n",
       "        vertical-align: middle;\n",
       "    }\n",
       "\n",
       "    .dataframe tbody tr th {\n",
       "        vertical-align: top;\n",
       "    }\n",
       "\n",
       "    .dataframe thead th {\n",
       "        text-align: right;\n",
       "    }\n",
       "</style>\n",
       "<table border=\"1\" class=\"dataframe\">\n",
       "  <thead>\n",
       "    <tr style=\"text-align: right;\">\n",
       "      <th></th>\n",
       "      <th>eventid</th>\n",
       "      <th>iyear</th>\n",
       "      <th>imonth</th>\n",
       "      <th>iday</th>\n",
       "      <th>approxdate</th>\n",
       "      <th>extended</th>\n",
       "      <th>resolution</th>\n",
       "      <th>country</th>\n",
       "      <th>country_txt</th>\n",
       "      <th>region</th>\n",
       "      <th>...</th>\n",
       "      <th>addnotes</th>\n",
       "      <th>scite1</th>\n",
       "      <th>scite2</th>\n",
       "      <th>scite3</th>\n",
       "      <th>dbsource</th>\n",
       "      <th>INT_LOG</th>\n",
       "      <th>INT_IDEO</th>\n",
       "      <th>INT_MISC</th>\n",
       "      <th>INT_ANY</th>\n",
       "      <th>related</th>\n",
       "    </tr>\n",
       "  </thead>\n",
       "  <tbody>\n",
       "    <tr>\n",
       "      <th>0</th>\n",
       "      <td>199801010001</td>\n",
       "      <td>1998</td>\n",
       "      <td>1</td>\n",
       "      <td>1</td>\n",
       "      <td>NaN</td>\n",
       "      <td>0</td>\n",
       "      <td>NaT</td>\n",
       "      <td>34</td>\n",
       "      <td>Burundi</td>\n",
       "      <td>11</td>\n",
       "      <td>...</td>\n",
       "      <td>NaN</td>\n",
       "      <td>“Burundi Rebels, Ex-Rwandan Army Soldiers Blam...</td>\n",
       "      <td>“Burundi--Attack Reported on Bujumbura Airport...</td>\n",
       "      <td>NaN</td>\n",
       "      <td>CETIS</td>\n",
       "      <td>0</td>\n",
       "      <td>1</td>\n",
       "      <td>0</td>\n",
       "      <td>1</td>\n",
       "      <td>NaN</td>\n",
       "    </tr>\n",
       "    <tr>\n",
       "      <th>1</th>\n",
       "      <td>199801010002</td>\n",
       "      <td>1998</td>\n",
       "      <td>1</td>\n",
       "      <td>1</td>\n",
       "      <td>NaN</td>\n",
       "      <td>0</td>\n",
       "      <td>NaT</td>\n",
       "      <td>167</td>\n",
       "      <td>Russia</td>\n",
       "      <td>9</td>\n",
       "      <td>...</td>\n",
       "      <td>NaN</td>\n",
       "      <td>“Bomb injures 3 in Moscow subway system,” The ...</td>\n",
       "      <td>“Bomb injures 3 in Moscow subway,” Charleston ...</td>\n",
       "      <td>“Bomb Injures 3 Workers in Moscow Metro,” Los ...</td>\n",
       "      <td>CETIS</td>\n",
       "      <td>-9</td>\n",
       "      <td>-9</td>\n",
       "      <td>0</td>\n",
       "      <td>-9</td>\n",
       "      <td>NaN</td>\n",
       "    </tr>\n",
       "    <tr>\n",
       "      <th>2</th>\n",
       "      <td>199801010003</td>\n",
       "      <td>1998</td>\n",
       "      <td>1</td>\n",
       "      <td>1</td>\n",
       "      <td>NaN</td>\n",
       "      <td>0</td>\n",
       "      <td>NaT</td>\n",
       "      <td>603</td>\n",
       "      <td>United Kingdom</td>\n",
       "      <td>8</td>\n",
       "      <td>...</td>\n",
       "      <td>NaN</td>\n",
       "      <td>“Protestant gunmen kill Catholic in New Year's...</td>\n",
       "      <td>“Ulster Peace Shattered by Shooting: Catholic ...</td>\n",
       "      <td>NaN</td>\n",
       "      <td>CETIS</td>\n",
       "      <td>0</td>\n",
       "      <td>0</td>\n",
       "      <td>1</td>\n",
       "      <td>1</td>\n",
       "      <td>NaN</td>\n",
       "    </tr>\n",
       "    <tr>\n",
       "      <th>3</th>\n",
       "      <td>199801020001</td>\n",
       "      <td>1998</td>\n",
       "      <td>1</td>\n",
       "      <td>2</td>\n",
       "      <td>NaN</td>\n",
       "      <td>0</td>\n",
       "      <td>NaT</td>\n",
       "      <td>95</td>\n",
       "      <td>Iraq</td>\n",
       "      <td>10</td>\n",
       "      <td>...</td>\n",
       "      <td>NaN</td>\n",
       "      <td>“Iraq Condemns Attack on UNSCOM Baghdad Office...</td>\n",
       "      <td>Farouk Choukri , “Iraq, UN Officials Continue ...</td>\n",
       "      <td>“Iraqi Interior Minister on UNSCOM Attack, Kuw...</td>\n",
       "      <td>CETIS</td>\n",
       "      <td>-9</td>\n",
       "      <td>-9</td>\n",
       "      <td>1</td>\n",
       "      <td>1</td>\n",
       "      <td>NaN</td>\n",
       "    </tr>\n",
       "    <tr>\n",
       "      <th>4</th>\n",
       "      <td>199801020002</td>\n",
       "      <td>1998</td>\n",
       "      <td>1</td>\n",
       "      <td>2</td>\n",
       "      <td>NaN</td>\n",
       "      <td>0</td>\n",
       "      <td>NaT</td>\n",
       "      <td>155</td>\n",
       "      <td>West Bank and Gaza Strip</td>\n",
       "      <td>10</td>\n",
       "      <td>...</td>\n",
       "      <td>NaN</td>\n",
       "      <td>“Woman Shot,” The Philadelphia Inquirer, Janua...</td>\n",
       "      <td>“Israeli Woman Critically Hurt by Gunfire in W...</td>\n",
       "      <td>NaN</td>\n",
       "      <td>CETIS</td>\n",
       "      <td>-9</td>\n",
       "      <td>-9</td>\n",
       "      <td>0</td>\n",
       "      <td>-9</td>\n",
       "      <td>NaN</td>\n",
       "    </tr>\n",
       "  </tbody>\n",
       "</table>\n",
       "<p>5 rows × 135 columns</p>\n",
       "</div>"
      ],
      "text/plain": [
       "        eventid  iyear  imonth  iday approxdate  extended resolution  country  \\\n",
       "0  199801010001   1998       1     1        NaN         0        NaT       34   \n",
       "1  199801010002   1998       1     1        NaN         0        NaT      167   \n",
       "2  199801010003   1998       1     1        NaN         0        NaT      603   \n",
       "3  199801020001   1998       1     2        NaN         0        NaT       95   \n",
       "4  199801020002   1998       1     2        NaN         0        NaT      155   \n",
       "\n",
       "                country_txt  region  ... addnotes  \\\n",
       "0                   Burundi      11  ...      NaN   \n",
       "1                    Russia       9  ...      NaN   \n",
       "2            United Kingdom       8  ...      NaN   \n",
       "3                      Iraq      10  ...      NaN   \n",
       "4  West Bank and Gaza Strip      10  ...      NaN   \n",
       "\n",
       "                                              scite1  \\\n",
       "0  “Burundi Rebels, Ex-Rwandan Army Soldiers Blam...   \n",
       "1  “Bomb injures 3 in Moscow subway system,” The ...   \n",
       "2  “Protestant gunmen kill Catholic in New Year's...   \n",
       "3  “Iraq Condemns Attack on UNSCOM Baghdad Office...   \n",
       "4  “Woman Shot,” The Philadelphia Inquirer, Janua...   \n",
       "\n",
       "                                              scite2  \\\n",
       "0  “Burundi--Attack Reported on Bujumbura Airport...   \n",
       "1  “Bomb injures 3 in Moscow subway,” Charleston ...   \n",
       "2  “Ulster Peace Shattered by Shooting: Catholic ...   \n",
       "3  Farouk Choukri , “Iraq, UN Officials Continue ...   \n",
       "4  “Israeli Woman Critically Hurt by Gunfire in W...   \n",
       "\n",
       "                                              scite3  dbsource  INT_LOG  \\\n",
       "0                                                NaN     CETIS        0   \n",
       "1  “Bomb Injures 3 Workers in Moscow Metro,” Los ...     CETIS       -9   \n",
       "2                                                NaN     CETIS        0   \n",
       "3  “Iraqi Interior Minister on UNSCOM Attack, Kuw...     CETIS       -9   \n",
       "4                                                NaN     CETIS       -9   \n",
       "\n",
       "   INT_IDEO INT_MISC INT_ANY  related  \n",
       "0         1        0       1      NaN  \n",
       "1        -9        0      -9      NaN  \n",
       "2         0        1       1      NaN  \n",
       "3        -9        1       1      NaN  \n",
       "4        -9        0      -9      NaN  \n",
       "\n",
       "[5 rows x 135 columns]"
      ]
     },
     "execution_count": 40,
     "metadata": {},
     "output_type": "execute_result"
    }
   ],
   "source": [
    "terrorism_data.head()"
   ]
  },
  {
   "cell_type": "code",
   "execution_count": 41,
   "id": "229b64e3-de33-4347-b4ca-5f24c3cba4af",
   "metadata": {},
   "outputs": [
    {
     "data": {
      "text/plain": [
       "eventid        int64\n",
       "iyear          int64\n",
       "imonth         int64\n",
       "iday           int64\n",
       "approxdate    object\n",
       "               ...  \n",
       "INT_LOG        int64\n",
       "INT_IDEO       int64\n",
       "INT_MISC       int64\n",
       "INT_ANY        int64\n",
       "related       object\n",
       "Length: 135, dtype: object"
      ]
     },
     "execution_count": 41,
     "metadata": {},
     "output_type": "execute_result"
    }
   ],
   "source": [
    "terrorism_data.dtypes"
   ]
  },
  {
   "cell_type": "markdown",
   "id": "81a9f532-b065-48eb-acb2-20400cb616c6",
   "metadata": {},
   "source": [
    "# 3、特征选取"
   ]
  },
  {
   "cell_type": "code",
   "execution_count": 80,
   "id": "8436f162-9059-48b2-ad27-dac1d2b81e80",
   "metadata": {},
   "outputs": [],
   "source": [
    "# data_columns = [\n",
    "#                 ## 二元变量: \n",
    "#                 'extended' , 'crit1', 'crit2', 'crit3', 'doubtterr',\n",
    "#                 'multiple', 'success', 'suicide', 'guncertain1',\n",
    "#                 'claimed', 'property', 'ishostkid',\n",
    "#                  #财产损失程度\n",
    "#                 'propextent',      \n",
    "#                 ## 数值变量:\n",
    "#                 'nkill', 'nwound','nperps','nkillter','nwoundte','propvalue','nhostkid','nreleased','ransom',       \n",
    "#                 ## 分类变量: \n",
    "#                 'region', 'attacktype1', 'targtype1',\n",
    "#                 'natlty1', 'weaptype1', 'hostkidoutcome'\n",
    "#               ]\n",
    "data_columns = [\n",
    "                'weaptype1','region','success','attacktype1','targtype1','nkill','nwound','suicide','nkillter','nwoundte', 'propextent','nperps'\n",
    "              ]"
   ]
  },
  {
   "cell_type": "code",
   "execution_count": 81,
   "id": "cc24b49a-3d3c-42df-9b41-a7ce7a6ee9e1",
   "metadata": {},
   "outputs": [
    {
     "data": {
      "text/html": [
       "<div>\n",
       "<style scoped>\n",
       "    .dataframe tbody tr th:only-of-type {\n",
       "        vertical-align: middle;\n",
       "    }\n",
       "\n",
       "    .dataframe tbody tr th {\n",
       "        vertical-align: top;\n",
       "    }\n",
       "\n",
       "    .dataframe thead th {\n",
       "        text-align: right;\n",
       "    }\n",
       "</style>\n",
       "<table border=\"1\" class=\"dataframe\">\n",
       "  <thead>\n",
       "    <tr style=\"text-align: right;\">\n",
       "      <th></th>\n",
       "      <th>weaptype1</th>\n",
       "      <th>region</th>\n",
       "      <th>success</th>\n",
       "      <th>attacktype1</th>\n",
       "      <th>targtype1</th>\n",
       "      <th>nkill</th>\n",
       "      <th>nwound</th>\n",
       "      <th>suicide</th>\n",
       "      <th>nkillter</th>\n",
       "      <th>nwoundte</th>\n",
       "      <th>propextent</th>\n",
       "      <th>nperps</th>\n",
       "    </tr>\n",
       "  </thead>\n",
       "  <tbody>\n",
       "    <tr>\n",
       "      <th>0</th>\n",
       "      <td>5</td>\n",
       "      <td>11</td>\n",
       "      <td>1</td>\n",
       "      <td>2</td>\n",
       "      <td>4</td>\n",
       "      <td>104.0</td>\n",
       "      <td>6.0</td>\n",
       "      <td>0</td>\n",
       "      <td>100.0</td>\n",
       "      <td>NaN</td>\n",
       "      <td>NaN</td>\n",
       "      <td>100.0</td>\n",
       "    </tr>\n",
       "    <tr>\n",
       "      <th>1</th>\n",
       "      <td>6</td>\n",
       "      <td>9</td>\n",
       "      <td>1</td>\n",
       "      <td>3</td>\n",
       "      <td>19</td>\n",
       "      <td>0.0</td>\n",
       "      <td>3.0</td>\n",
       "      <td>0</td>\n",
       "      <td>0.0</td>\n",
       "      <td>0.0</td>\n",
       "      <td>NaN</td>\n",
       "      <td>NaN</td>\n",
       "    </tr>\n",
       "    <tr>\n",
       "      <th>2</th>\n",
       "      <td>5</td>\n",
       "      <td>8</td>\n",
       "      <td>1</td>\n",
       "      <td>2</td>\n",
       "      <td>14</td>\n",
       "      <td>1.0</td>\n",
       "      <td>0.0</td>\n",
       "      <td>0</td>\n",
       "      <td>0.0</td>\n",
       "      <td>0.0</td>\n",
       "      <td>NaN</td>\n",
       "      <td>NaN</td>\n",
       "    </tr>\n",
       "    <tr>\n",
       "      <th>3</th>\n",
       "      <td>6</td>\n",
       "      <td>10</td>\n",
       "      <td>1</td>\n",
       "      <td>3</td>\n",
       "      <td>7</td>\n",
       "      <td>0.0</td>\n",
       "      <td>0.0</td>\n",
       "      <td>0</td>\n",
       "      <td>0.0</td>\n",
       "      <td>0.0</td>\n",
       "      <td>3.0</td>\n",
       "      <td>NaN</td>\n",
       "    </tr>\n",
       "    <tr>\n",
       "      <th>4</th>\n",
       "      <td>5</td>\n",
       "      <td>10</td>\n",
       "      <td>0</td>\n",
       "      <td>2</td>\n",
       "      <td>14</td>\n",
       "      <td>0.0</td>\n",
       "      <td>1.0</td>\n",
       "      <td>0</td>\n",
       "      <td>0.0</td>\n",
       "      <td>0.0</td>\n",
       "      <td>NaN</td>\n",
       "      <td>NaN</td>\n",
       "    </tr>\n",
       "  </tbody>\n",
       "</table>\n",
       "</div>"
      ],
      "text/plain": [
       "   weaptype1  region  success  attacktype1  targtype1  nkill  nwound  suicide  \\\n",
       "0          5      11        1            2          4  104.0     6.0        0   \n",
       "1          6       9        1            3         19    0.0     3.0        0   \n",
       "2          5       8        1            2         14    1.0     0.0        0   \n",
       "3          6      10        1            3          7    0.0     0.0        0   \n",
       "4          5      10        0            2         14    0.0     1.0        0   \n",
       "\n",
       "   nkillter  nwoundte  propextent  nperps  \n",
       "0     100.0       NaN         NaN   100.0  \n",
       "1       0.0       0.0         NaN     NaN  \n",
       "2       0.0       0.0         NaN     NaN  \n",
       "3       0.0       0.0         3.0     NaN  \n",
       "4       0.0       0.0         NaN     NaN  "
      ]
     },
     "execution_count": 81,
     "metadata": {},
     "output_type": "execute_result"
    }
   ],
   "source": [
    "data = terrorism_data.copy()\n",
    "df = data.loc[:,data_columns]\n",
    "df.head()"
   ]
  },
  {
   "cell_type": "markdown",
   "id": "2d4ff48f-e362-437a-8d7c-6a128994e3bc",
   "metadata": {},
   "source": [
    "# 4、数据预处理"
   ]
  },
  {
   "cell_type": "markdown",
   "id": "75b97a4e-4767-4cb1-8927-d51256a3cdeb",
   "metadata": {},
   "source": [
    "## 4、1缺失数据统计"
   ]
  },
  {
   "cell_type": "code",
   "execution_count": 82,
   "id": "6a652e92-7eb8-4985-9ddf-552cfd41a968",
   "metadata": {},
   "outputs": [
    {
     "name": "stderr",
     "output_type": "stream",
     "text": [
      "D:\\anaconda3\\envs\\pytorch\\lib\\site-packages\\missingno\\missingno.py:258: RuntimeWarning: overflow encountered in long_scalars\n",
      "  ax2.set_yticklabels([int(n * len(df)) for n in ax1.get_yticks()], fontsize=fontsize)\n",
      "D:\\anaconda3\\envs\\pytorch\\lib\\site-packages\\missingno\\missingno.py:265: RuntimeWarning: overflow encountered in long_scalars\n",
      "  ax2.set_yticklabels([int(n * len(df)) for n in ax1.get_yticks()], fontsize=fontsize)\n"
     ]
    },
    {
     "data": {
      "text/plain": [
       "<AxesSubplot:>"
      ]
     },
     "execution_count": 82,
     "metadata": {},
     "output_type": "execute_result"
    },
    {
     "data": {
      "image/png": "[encoded data removed]",
      "text/plain": [
       "<Figure size 1800x720 with 4 Axes>"
      ]
     },
     "metadata": {
      "needs_background": "light"
     },
     "output_type": "display_data"
    }
   ],
   "source": [
    "import missingno as msno\n",
    "msno.matrix(df, labels=True)\n",
    "df.isnull().sum()/df.shape[0]\n",
    "msno.bar(df)"
   ]
  },
  {
   "cell_type": "markdown",
   "id": "b6e5055a-734f-4750-8799-63d64eeedc49",
   "metadata": {},
   "source": [
    "## 4、2 缺失值处理"
   ]
  },
  {
   "cell_type": "code",
   "execution_count": 45,
   "id": "77c405a8-3f90-4862-8e8d-00a6c38efa62",
   "metadata": {},
   "outputs": [],
   "source": [
    "# df[\"nhostkidisnull\"] = df[\"nhostkid\"].isnull()\n",
    "# df[\"nhostkidisnull\"] = df[\"nhostkidisnull\"].astype('int')\n",
    "# df[\"ransomisnull\"] = df[\"ransom\"].isnull()\n",
    "# df[\"ransomisnull\"] = df[\"ransomisnull\"].astype(int)\n",
    "# df[\"hostkidoutcomeisnull\"] = df[\"hostkidoutcome\"].isnull()\n",
    "# df[\"hostkidoutcomeisnull\"] = df[\"hostkidoutcomeisnull\"].astype(int)\n",
    "# df[\"nreleasedisnull\"] = df[\"nreleased\"].isnull()\n",
    "# df[\"nreleasedisnull\"] = df[\"nreleasedisnull\"].astype(int)\n",
    "# df = df.drop(['nhostkid','ransom','hostkidoutcome','nreleased'],axis=1)"
   ]
  },
  {
   "cell_type": "markdown",
   "id": "110682e7-bed9-4240-8cac-55441f9760a6",
   "metadata": {},
   "source": [
    "## 4、3 采用0替换未知值-9"
   ]
  },
  {
   "cell_type": "code",
   "execution_count": 83,
   "id": "1ada9e7f-0951-42ea-90b4-d1b0ae783cfc",
   "metadata": {},
   "outputs": [
    {
     "data": {
      "text/html": [
       "<div>\n",
       "<style scoped>\n",
       "    .dataframe tbody tr th:only-of-type {\n",
       "        vertical-align: middle;\n",
       "    }\n",
       "\n",
       "    .dataframe tbody tr th {\n",
       "        vertical-align: top;\n",
       "    }\n",
       "\n",
       "    .dataframe thead th {\n",
       "        text-align: right;\n",
       "    }\n",
       "</style>\n",
       "<table border=\"1\" class=\"dataframe\">\n",
       "  <thead>\n",
       "    <tr style=\"text-align: right;\">\n",
       "      <th></th>\n",
       "      <th>weaptype1</th>\n",
       "      <th>region</th>\n",
       "      <th>success</th>\n",
       "      <th>attacktype1</th>\n",
       "      <th>targtype1</th>\n",
       "      <th>nkill</th>\n",
       "      <th>nwound</th>\n",
       "      <th>suicide</th>\n",
       "      <th>nkillter</th>\n",
       "      <th>nwoundte</th>\n",
       "      <th>propextent</th>\n",
       "      <th>nperps</th>\n",
       "    </tr>\n",
       "  </thead>\n",
       "  <tbody>\n",
       "    <tr>\n",
       "      <th>0</th>\n",
       "      <td>5</td>\n",
       "      <td>11</td>\n",
       "      <td>1</td>\n",
       "      <td>2</td>\n",
       "      <td>4</td>\n",
       "      <td>104.000000</td>\n",
       "      <td>6.000000</td>\n",
       "      <td>0</td>\n",
       "      <td>100.000000</td>\n",
       "      <td>0.107825</td>\n",
       "      <td>3.265181</td>\n",
       "      <td>100.000000</td>\n",
       "    </tr>\n",
       "    <tr>\n",
       "      <th>1</th>\n",
       "      <td>6</td>\n",
       "      <td>9</td>\n",
       "      <td>1</td>\n",
       "      <td>3</td>\n",
       "      <td>19</td>\n",
       "      <td>0.000000</td>\n",
       "      <td>3.000000</td>\n",
       "      <td>0</td>\n",
       "      <td>0.000000</td>\n",
       "      <td>0.000000</td>\n",
       "      <td>3.265181</td>\n",
       "      <td>2.948731</td>\n",
       "    </tr>\n",
       "    <tr>\n",
       "      <th>2</th>\n",
       "      <td>5</td>\n",
       "      <td>8</td>\n",
       "      <td>1</td>\n",
       "      <td>2</td>\n",
       "      <td>14</td>\n",
       "      <td>1.000000</td>\n",
       "      <td>0.000000</td>\n",
       "      <td>0</td>\n",
       "      <td>0.000000</td>\n",
       "      <td>0.000000</td>\n",
       "      <td>3.265181</td>\n",
       "      <td>2.948731</td>\n",
       "    </tr>\n",
       "    <tr>\n",
       "      <th>3</th>\n",
       "      <td>6</td>\n",
       "      <td>10</td>\n",
       "      <td>1</td>\n",
       "      <td>3</td>\n",
       "      <td>7</td>\n",
       "      <td>0.000000</td>\n",
       "      <td>0.000000</td>\n",
       "      <td>0</td>\n",
       "      <td>0.000000</td>\n",
       "      <td>0.000000</td>\n",
       "      <td>3.000000</td>\n",
       "      <td>2.948731</td>\n",
       "    </tr>\n",
       "    <tr>\n",
       "      <th>4</th>\n",
       "      <td>5</td>\n",
       "      <td>10</td>\n",
       "      <td>0</td>\n",
       "      <td>2</td>\n",
       "      <td>14</td>\n",
       "      <td>0.000000</td>\n",
       "      <td>1.000000</td>\n",
       "      <td>0</td>\n",
       "      <td>0.000000</td>\n",
       "      <td>0.000000</td>\n",
       "      <td>3.265181</td>\n",
       "      <td>2.948731</td>\n",
       "    </tr>\n",
       "    <tr>\n",
       "      <th>5</th>\n",
       "      <td>6</td>\n",
       "      <td>9</td>\n",
       "      <td>1</td>\n",
       "      <td>3</td>\n",
       "      <td>3</td>\n",
       "      <td>2.543561</td>\n",
       "      <td>3.790111</td>\n",
       "      <td>0</td>\n",
       "      <td>0.504731</td>\n",
       "      <td>0.107825</td>\n",
       "      <td>3.265181</td>\n",
       "      <td>2.948731</td>\n",
       "    </tr>\n",
       "    <tr>\n",
       "      <th>6</th>\n",
       "      <td>6</td>\n",
       "      <td>9</td>\n",
       "      <td>1</td>\n",
       "      <td>3</td>\n",
       "      <td>3</td>\n",
       "      <td>2.543561</td>\n",
       "      <td>3.790111</td>\n",
       "      <td>0</td>\n",
       "      <td>0.504731</td>\n",
       "      <td>0.107825</td>\n",
       "      <td>3.265181</td>\n",
       "      <td>2.948731</td>\n",
       "    </tr>\n",
       "    <tr>\n",
       "      <th>7</th>\n",
       "      <td>6</td>\n",
       "      <td>8</td>\n",
       "      <td>0</td>\n",
       "      <td>3</td>\n",
       "      <td>3</td>\n",
       "      <td>0.000000</td>\n",
       "      <td>0.000000</td>\n",
       "      <td>0</td>\n",
       "      <td>0.000000</td>\n",
       "      <td>0.000000</td>\n",
       "      <td>3.265181</td>\n",
       "      <td>2.948731</td>\n",
       "    </tr>\n",
       "    <tr>\n",
       "      <th>8</th>\n",
       "      <td>6</td>\n",
       "      <td>3</td>\n",
       "      <td>1</td>\n",
       "      <td>3</td>\n",
       "      <td>10</td>\n",
       "      <td>0.000000</td>\n",
       "      <td>1.000000</td>\n",
       "      <td>0</td>\n",
       "      <td>0.000000</td>\n",
       "      <td>0.000000</td>\n",
       "      <td>4.000000</td>\n",
       "      <td>2.948731</td>\n",
       "    </tr>\n",
       "    <tr>\n",
       "      <th>9</th>\n",
       "      <td>5</td>\n",
       "      <td>11</td>\n",
       "      <td>1</td>\n",
       "      <td>2</td>\n",
       "      <td>14</td>\n",
       "      <td>14.000000</td>\n",
       "      <td>2.000000</td>\n",
       "      <td>0</td>\n",
       "      <td>0.000000</td>\n",
       "      <td>0.107825</td>\n",
       "      <td>3.265181</td>\n",
       "      <td>2.948731</td>\n",
       "    </tr>\n",
       "  </tbody>\n",
       "</table>\n",
       "</div>"
      ],
      "text/plain": [
       "   weaptype1  region  success  attacktype1  targtype1       nkill    nwound  \\\n",
       "0          5      11        1            2          4  104.000000  6.000000   \n",
       "1          6       9        1            3         19    0.000000  3.000000   \n",
       "2          5       8        1            2         14    1.000000  0.000000   \n",
       "3          6      10        1            3          7    0.000000  0.000000   \n",
       "4          5      10        0            2         14    0.000000  1.000000   \n",
       "5          6       9        1            3          3    2.543561  3.790111   \n",
       "6          6       9        1            3          3    2.543561  3.790111   \n",
       "7          6       8        0            3          3    0.000000  0.000000   \n",
       "8          6       3        1            3         10    0.000000  1.000000   \n",
       "9          5      11        1            2         14   14.000000  2.000000   \n",
       "\n",
       "   suicide    nkillter  nwoundte  propextent      nperps  \n",
       "0        0  100.000000  0.107825    3.265181  100.000000  \n",
       "1        0    0.000000  0.000000    3.265181    2.948731  \n",
       "2        0    0.000000  0.000000    3.265181    2.948731  \n",
       "3        0    0.000000  0.000000    3.000000    2.948731  \n",
       "4        0    0.000000  0.000000    3.265181    2.948731  \n",
       "5        0    0.504731  0.107825    3.265181    2.948731  \n",
       "6        0    0.504731  0.107825    3.265181    2.948731  \n",
       "7        0    0.000000  0.000000    3.265181    2.948731  \n",
       "8        0    0.000000  0.000000    4.000000    2.948731  \n",
       "9        0    0.000000  0.107825    3.265181    2.948731  "
      ]
     },
     "execution_count": 83,
     "metadata": {},
     "output_type": "execute_result"
    }
   ],
   "source": [
    "#把未知的-9替换成0\n",
    "# df[['claimed','property','ishostkid']] = df.loc[:,['claimed','property','ishostkid']].replace(-9,0)\n",
    "# df[['claimed']] = df.loc[:,['claimed']].replace(-9,0)\n",
    "df[['nperps']] = df.loc[:,['nperps']].replace(-99,0)\n",
    "df[['nperps']] = df.loc[:,['nperps']].replace(-9,0)\n",
    "df = df.fillna(df.mean())\n",
    "df.head(10)"
   ]
  },
  {
   "cell_type": "markdown",
   "id": "c8866372-4ee3-4db8-a266-4bb89451c1ec",
   "metadata": {},
   "source": [
    "## 4.4 缺失值插补"
   ]
  },
  {
   "cell_type": "code",
   "execution_count": 58,
   "id": "1fd3e80c-1c81-49e7-986e-0ee3c7ad5b5d",
   "metadata": {},
   "outputs": [
    {
     "data": {
      "text/plain": [
       "array([[  5.,  11.,   1., ...,   0.,   4., 100.],\n",
       "       [  6.,   9.,   1., ...,   0.,   4.,   0.],\n",
       "       [  5.,   8.,   1., ...,   0.,   3.,   0.],\n",
       "       ...,\n",
       "       [  8.,   5.,   1., ...,   0.,   4.,   0.],\n",
       "       [  6.,   6.,   0., ...,   0.,   3.,   0.],\n",
       "       [  6.,   5.,   0., ...,   0.,   4.,   0.]])"
      ]
     },
     "execution_count": 58,
     "metadata": {},
     "output_type": "execute_result"
    }
   ],
   "source": [
    "# from sklearn.impute import KNNImputer\n",
    "# imputer = KNNImputer(n_neighbors=1)\n",
    "# imputer.fit_transform(df)"
   ]
  },
  {
   "cell_type": "code",
   "execution_count": 84,
   "id": "97546b12-6a7e-46dc-ad9c-9c562a06dc62",
   "metadata": {},
   "outputs": [
    {
     "data": {
      "text/plain": [
       "weaptype1      0\n",
       "region         0\n",
       "success        0\n",
       "attacktype1    0\n",
       "targtype1      0\n",
       "nkill          0\n",
       "nwound         0\n",
       "suicide        0\n",
       "nkillter       0\n",
       "nwoundte       0\n",
       "propextent     0\n",
       "nperps         0\n",
       "dtype: int64"
      ]
     },
     "execution_count": 84,
     "metadata": {},
     "output_type": "execute_result"
    }
   ],
   "source": [
    "df.head()\n",
    "df.shape\n",
    "df.isnull().sum()\n",
    "# df.describe()"
   ]
  },
  {
   "cell_type": "markdown",
   "id": "76770f1e-e458-4ea8-9c3e-09c38f2baf74",
   "metadata": {},
   "source": [
    "## 4、4归一化"
   ]
  },
  {
   "cell_type": "code",
   "execution_count": 86,
   "id": "ee81acdc-25d7-48b1-abaa-67657413af2b",
   "metadata": {},
   "outputs": [
    {
     "data": {
      "text/html": [
       "<div>\n",
       "<style scoped>\n",
       "    .dataframe tbody tr th:only-of-type {\n",
       "        vertical-align: middle;\n",
       "    }\n",
       "\n",
       "    .dataframe tbody tr th {\n",
       "        vertical-align: top;\n",
       "    }\n",
       "\n",
       "    .dataframe thead th {\n",
       "        text-align: right;\n",
       "    }\n",
       "</style>\n",
       "<table border=\"1\" class=\"dataframe\">\n",
       "  <thead>\n",
       "    <tr style=\"text-align: right;\">\n",
       "      <th></th>\n",
       "      <th>weaptype1</th>\n",
       "      <th>region</th>\n",
       "      <th>success</th>\n",
       "      <th>attacktype1</th>\n",
       "      <th>targtype1</th>\n",
       "      <th>nkill</th>\n",
       "      <th>nwound</th>\n",
       "      <th>suicide</th>\n",
       "      <th>nkillter</th>\n",
       "      <th>nwoundte</th>\n",
       "      <th>propextent</th>\n",
       "      <th>nperps</th>\n",
       "    </tr>\n",
       "  </thead>\n",
       "  <tbody>\n",
       "    <tr>\n",
       "      <th>0</th>\n",
       "      <td>-0.671773</td>\n",
       "      <td>1.255401</td>\n",
       "      <td>0.379914</td>\n",
       "      <td>-0.721953</td>\n",
       "      <td>-0.728072</td>\n",
       "      <td>8.356384</td>\n",
       "      <td>0.056693</td>\n",
       "      <td>-0.246307</td>\n",
       "      <td>23.882432</td>\n",
       "      <td>0.000000</td>\n",
       "      <td>-1.473284e-15</td>\n",
       "      <td>2.583598</td>\n",
       "    </tr>\n",
       "    <tr>\n",
       "      <th>1</th>\n",
       "      <td>-0.188893</td>\n",
       "      <td>0.411562</td>\n",
       "      <td>0.379914</td>\n",
       "      <td>-0.184453</td>\n",
       "      <td>1.569985</td>\n",
       "      <td>-0.209499</td>\n",
       "      <td>-0.020270</td>\n",
       "      <td>-0.246307</td>\n",
       "      <td>-0.121153</td>\n",
       "      <td>-0.073371</td>\n",
       "      <td>-1.473284e-15</td>\n",
       "      <td>0.000000</td>\n",
       "    </tr>\n",
       "    <tr>\n",
       "      <th>2</th>\n",
       "      <td>-0.671773</td>\n",
       "      <td>-0.010357</td>\n",
       "      <td>0.379914</td>\n",
       "      <td>-0.721953</td>\n",
       "      <td>0.803966</td>\n",
       "      <td>-0.127134</td>\n",
       "      <td>-0.097232</td>\n",
       "      <td>-0.246307</td>\n",
       "      <td>-0.121153</td>\n",
       "      <td>-0.073371</td>\n",
       "      <td>-1.473284e-15</td>\n",
       "      <td>0.000000</td>\n",
       "    </tr>\n",
       "    <tr>\n",
       "      <th>3</th>\n",
       "      <td>-0.188893</td>\n",
       "      <td>0.833481</td>\n",
       "      <td>0.379914</td>\n",
       "      <td>-0.184453</td>\n",
       "      <td>-0.268460</td>\n",
       "      <td>-0.209499</td>\n",
       "      <td>-0.097232</td>\n",
       "      <td>-0.246307</td>\n",
       "      <td>-0.121153</td>\n",
       "      <td>-0.073371</td>\n",
       "      <td>-8.797473e-01</td>\n",
       "      <td>0.000000</td>\n",
       "    </tr>\n",
       "    <tr>\n",
       "      <th>4</th>\n",
       "      <td>-0.671773</td>\n",
       "      <td>0.833481</td>\n",
       "      <td>-2.632150</td>\n",
       "      <td>-0.721953</td>\n",
       "      <td>0.803966</td>\n",
       "      <td>-0.209499</td>\n",
       "      <td>-0.071578</td>\n",
       "      <td>-0.246307</td>\n",
       "      <td>-0.121153</td>\n",
       "      <td>-0.073371</td>\n",
       "      <td>-1.473284e-15</td>\n",
       "      <td>0.000000</td>\n",
       "    </tr>\n",
       "    <tr>\n",
       "      <th>...</th>\n",
       "      <td>...</td>\n",
       "      <td>...</td>\n",
       "      <td>...</td>\n",
       "      <td>...</td>\n",
       "      <td>...</td>\n",
       "      <td>...</td>\n",
       "      <td>...</td>\n",
       "      <td>...</td>\n",
       "      <td>...</td>\n",
       "      <td>...</td>\n",
       "      <td>...</td>\n",
       "      <td>...</td>\n",
       "    </tr>\n",
       "    <tr>\n",
       "      <th>114178</th>\n",
       "      <td>-0.671773</td>\n",
       "      <td>1.255401</td>\n",
       "      <td>0.379914</td>\n",
       "      <td>-0.721953</td>\n",
       "      <td>-0.728072</td>\n",
       "      <td>-0.127134</td>\n",
       "      <td>-0.045924</td>\n",
       "      <td>-0.246307</td>\n",
       "      <td>-0.121153</td>\n",
       "      <td>-0.073371</td>\n",
       "      <td>-1.473284e-15</td>\n",
       "      <td>-0.078498</td>\n",
       "    </tr>\n",
       "    <tr>\n",
       "      <th>114179</th>\n",
       "      <td>-0.188893</td>\n",
       "      <td>0.833481</td>\n",
       "      <td>0.379914</td>\n",
       "      <td>-0.184453</td>\n",
       "      <td>-0.728072</td>\n",
       "      <td>-0.044770</td>\n",
       "      <td>0.082347</td>\n",
       "      <td>-0.246307</td>\n",
       "      <td>-0.121153</td>\n",
       "      <td>-0.073371</td>\n",
       "      <td>2.437793e+00</td>\n",
       "      <td>-0.078498</td>\n",
       "    </tr>\n",
       "    <tr>\n",
       "      <th>114180</th>\n",
       "      <td>0.776868</td>\n",
       "      <td>-1.276116</td>\n",
       "      <td>0.379914</td>\n",
       "      <td>1.965548</td>\n",
       "      <td>0.803966</td>\n",
       "      <td>-0.209499</td>\n",
       "      <td>-0.097232</td>\n",
       "      <td>-0.246307</td>\n",
       "      <td>-0.121153</td>\n",
       "      <td>-0.073371</td>\n",
       "      <td>2.437793e+00</td>\n",
       "      <td>-0.078498</td>\n",
       "    </tr>\n",
       "    <tr>\n",
       "      <th>114181</th>\n",
       "      <td>-0.188893</td>\n",
       "      <td>-0.854196</td>\n",
       "      <td>-2.632150</td>\n",
       "      <td>-0.184453</td>\n",
       "      <td>-1.034479</td>\n",
       "      <td>-0.209499</td>\n",
       "      <td>-0.097232</td>\n",
       "      <td>-0.246307</td>\n",
       "      <td>-0.121153</td>\n",
       "      <td>-0.073371</td>\n",
       "      <td>-1.473284e-15</td>\n",
       "      <td>-0.078498</td>\n",
       "    </tr>\n",
       "    <tr>\n",
       "      <th>114182</th>\n",
       "      <td>-0.188893</td>\n",
       "      <td>-1.276116</td>\n",
       "      <td>-2.632150</td>\n",
       "      <td>-0.184453</td>\n",
       "      <td>1.723188</td>\n",
       "      <td>-0.209499</td>\n",
       "      <td>-0.097232</td>\n",
       "      <td>-0.246307</td>\n",
       "      <td>-0.121153</td>\n",
       "      <td>-0.073371</td>\n",
       "      <td>-1.473284e-15</td>\n",
       "      <td>-0.078498</td>\n",
       "    </tr>\n",
       "  </tbody>\n",
       "</table>\n",
       "<p>114183 rows × 12 columns</p>\n",
       "</div>"
      ],
      "text/plain": [
       "        weaptype1    region   success  attacktype1  targtype1     nkill  \\\n",
       "0       -0.671773  1.255401  0.379914    -0.721953  -0.728072  8.356384   \n",
       "1       -0.188893  0.411562  0.379914    -0.184453   1.569985 -0.209499   \n",
       "2       -0.671773 -0.010357  0.379914    -0.721953   0.803966 -0.127134   \n",
       "3       -0.188893  0.833481  0.379914    -0.184453  -0.268460 -0.209499   \n",
       "4       -0.671773  0.833481 -2.632150    -0.721953   0.803966 -0.209499   \n",
       "...           ...       ...       ...          ...        ...       ...   \n",
       "114178  -0.671773  1.255401  0.379914    -0.721953  -0.728072 -0.127134   \n",
       "114179  -0.188893  0.833481  0.379914    -0.184453  -0.728072 -0.044770   \n",
       "114180   0.776868 -1.276116  0.379914     1.965548   0.803966 -0.209499   \n",
       "114181  -0.188893 -0.854196 -2.632150    -0.184453  -1.034479 -0.209499   \n",
       "114182  -0.188893 -1.276116 -2.632150    -0.184453   1.723188 -0.209499   \n",
       "\n",
       "          nwound   suicide   nkillter  nwoundte    propextent    nperps  \n",
       "0       0.056693 -0.246307  23.882432  0.000000 -1.473284e-15  2.583598  \n",
       "1      -0.020270 -0.246307  -0.121153 -0.073371 -1.473284e-15  0.000000  \n",
       "2      -0.097232 -0.246307  -0.121153 -0.073371 -1.473284e-15  0.000000  \n",
       "3      -0.097232 -0.246307  -0.121153 -0.073371 -8.797473e-01  0.000000  \n",
       "4      -0.071578 -0.246307  -0.121153 -0.073371 -1.473284e-15  0.000000  \n",
       "...          ...       ...        ...       ...           ...       ...  \n",
       "114178 -0.045924 -0.246307  -0.121153 -0.073371 -1.473284e-15 -0.078498  \n",
       "114179  0.082347 -0.246307  -0.121153 -0.073371  2.437793e+00 -0.078498  \n",
       "114180 -0.097232 -0.246307  -0.121153 -0.073371  2.437793e+00 -0.078498  \n",
       "114181 -0.097232 -0.246307  -0.121153 -0.073371 -1.473284e-15 -0.078498  \n",
       "114182 -0.097232 -0.246307  -0.121153 -0.073371 -1.473284e-15 -0.078498  \n",
       "\n",
       "[114183 rows x 12 columns]"
      ]
     },
     "execution_count": 86,
     "metadata": {},
     "output_type": "execute_result"
    }
   ],
   "source": [
    "# df_norm = (df - df.min())/(df.max()-df.min());\n",
    "df_norm2 = (df-df.mean())/df.std()     \n",
    "df_norm2"
   ]
  },
  {
   "cell_type": "code",
   "execution_count": 90,
   "id": "e94b6911-9507-4646-9420-f930138bea59",
   "metadata": {},
   "outputs": [
    {
     "name": "stderr",
     "output_type": "stream",
     "text": [
      "Config option `kernel_spec_manager_class` not recognized by `ListLabExtensionsApp`.\n",
      "[W 2021-07-08 21:38:29.110 LabApp] Config option `kernel_spec_manager_class` not recognized by `LabApp`.\n",
      "JupyterLab v3.0.16\n",
      "d:\\anaconda3\\envs\\pytorch\\share\\jupyter\\labextensions\n",
      "        jupyterlab-plotly v5.1.0 enabled ok\n",
      "        @jupyter-widgets/jupyterlab-manager v3.0.0 enabled ok (python, jupyterlab_widgets)\n",
      "\n",
      "Other labextensions (built into JupyterLab)\n",
      "   app dir: D:\\anaconda3\\envs\\pytorch\\share\\jupyter\\lab\n",
      "        @kiteco/jupyterlab-kite v1.2.0 enabled ok\n",
      "\n"
     ]
    }
   ],
   "source": [
    "!jupyter labextension list"
   ]
  },
  {
   "cell_type": "markdown",
   "id": "b8d6fefb-948a-41f0-801c-dbd8ccf2777b",
   "metadata": {},
   "source": [
    "## 4、5因子分析降维"
   ]
  },
  {
   "cell_type": "code",
   "execution_count": 66,
   "id": "44af97a9-2534-47a6-89ee-824c57e72220",
   "metadata": {},
   "outputs": [],
   "source": [
    "from factor_analyzer import FactorAnalyzer\n",
    "from factor_analyzer.factor_analyzer import calculate_bartlett_sphericity\n",
    "from factor_analyzer.factor_analyzer import calculate_kmo"
   ]
  },
  {
   "cell_type": "markdown",
   "id": "eac955c7-6f66-48b8-88f8-d25d61702315",
   "metadata": {},
   "source": [
    "- Bartlett's球状检验"
   ]
  },
  {
   "cell_type": "code",
   "execution_count": 68,
   "id": "ef74f7e7-e348-402f-b215-8623e7731f76",
   "metadata": {},
   "outputs": [
    {
     "data": {
      "text/plain": [
       "(175322.96874311645, 0.0)"
      ]
     },
     "execution_count": 68,
     "metadata": {},
     "output_type": "execute_result"
    }
   ],
   "source": [
    "#Bartlett's球状检验,用来判断变量是否适合用于做因子分析\n",
    "#Bartlett球度统计量越大越好，其伴随概率<0.05，说明数据适合做因子分析\n",
    "chi_square_value,p_value=calculate_bartlett_sphericity(df_norm2)\n",
    "chi_square_value, p_value"
   ]
  },
  {
   "cell_type": "markdown",
   "id": "d8da4266-21a3-4c1f-a89e-87dbaa6c7ec8",
   "metadata": {},
   "source": [
    "- Kaiser-Meyer-Olkin检验"
   ]
  },
  {
   "cell_type": "code",
   "execution_count": 70,
   "id": "c8cf70f3-8b68-42b7-9018-4390b140b977",
   "metadata": {},
   "outputs": [
    {
     "data": {
      "text/plain": [
       "0.48511703666629385"
      ]
     },
     "execution_count": 70,
     "metadata": {},
     "output_type": "execute_result"
    }
   ],
   "source": [
    "#Kaiser-Meyer-Olkin检验,KMO值在0到1之间。小于0.6的KMO值被认为是不合适的。\n",
    "kmo_all,kmo_model=calculate_kmo(df_norm2)\n",
    "kmo_model"
   ]
  },
  {
   "cell_type": "markdown",
   "id": "6c659a73-6959-4b86-ad23-bdf7389394ed",
   "metadata": {},
   "source": [
    "- 选择因子数"
   ]
  },
  {
   "cell_type": "code",
   "execution_count": null,
   "id": "752eba22-ca8d-4ed9-8915-091803d2134a",
   "metadata": {},
   "outputs": [],
   "source": [
    "fa = FactorAnalyzer(n_factors = 25,rotation=None)\n",
    "fa.fit(df_norm)\n",
    "ev, v = fa.get_eigenvalues()\n",
    "ev"
   ]
  },
  {
   "cell_type": "markdown",
   "id": "b24f7bbe-ac7d-4a1b-812c-42d8fe08b896",
   "metadata": {},
   "source": [
    "- 绘制碎石图"
   ]
  },
  {
   "cell_type": "code",
   "execution_count": null,
   "id": "f3d8f65f-160b-426c-ad65-0f4b4ddf2851",
   "metadata": {},
   "outputs": [],
   "source": [
    "plt.scatter(range(1,df.shape[1]+1),ev)\n",
    "plt.plot(range(1,df.shape[1]+1),ev)\n",
    "plt.title('Scree Plot')\n",
    "plt.xlabel('Factors')\n",
    "plt.ylabel('Eigenvalue')\n",
    "plt.grid()\n",
    "plt.show()\n",
    "#由下图可知有11个因子的特征值大于1，所以选取的因子数量为11个"
   ]
  },
  {
   "cell_type": "markdown",
   "id": "fe2dc260-1475-4b19-b870-32168ac079b9",
   "metadata": {},
   "source": [
    "- 根据选择的因子数重新执行因子分析"
   ]
  },
  {
   "cell_type": "code",
   "execution_count": null,
   "id": "c20c33d4-9437-4346-9346-8fdf34617278",
   "metadata": {},
   "outputs": [],
   "source": [
    "from IPython.display import display\n",
    "np.set_printoptions(linewidth=400)\n",
    "pd.set_option('display.max_columns', 60)\n",
    "%matplotlib inline\n",
    "#使用最大方差法旋转因子载荷矩阵\n",
    "fa = FactorAnalyzer(n_factors = 11,rotation='varimax')\n",
    "fa.fit(df_norm)\n",
    "#旋转后的因子的载荷矩阵\n",
    "load = fa.loadings_\n",
    "fa_16_load = pd.DataFrame({\n",
    "                'extended':load[0] , 'crit1':load[1], 'crit2':load[2], 'crit3':load[3], 'doubtterr':load[4],\n",
    "                'multiple':load[5], 'success':load[6], 'suicide':load[7], 'guncertain1':load[8], \n",
    "                'claimed':load[9], 'property':load[10], 'ishostkid':load[11],'propextent':load[12], \n",
    "                'nkill':load[13], 'nwound':load[14],'nperps':load[15],'nkiller':load[16],'nwoundte':load[17],\n",
    "                'propvalue':load[18],'nhostkid':load[19],'nreleased':load[20],'ransom':load[21],       \n",
    "                'region':load[22], 'attacktype1':load[23], 'targtype1':load[24],\n",
    "                'natlty1':load[25], 'weaptype1':load[26], 'hostkidoutcome':load[27],\n",
    "}   \n",
    ")\n",
    "fa_16_load"
   ]
  },
  {
   "cell_type": "code",
   "execution_count": null,
   "id": "98ebebfc-1f60-4fb8-8334-b4c13675dc1e",
   "metadata": {},
   "outputs": [],
   "source": [
    " # 皮尔森相关系数\n",
    "df_corr=df_norm.corr()\n",
    "# 因子得分（回归方法）（系数矩阵的逆乘以因子载荷矩阵）\n",
    "X1 = np.mat(df_corr)\n",
    "X1 = np.linalg.inv(X1)\n",
    "factor_score = np.dot(X1,load)\n",
    "factor_score = pd.DataFrame(factor_score)\n",
    "tmp_columns = []\n",
    "for index in range(11):\n",
    "   tmp = \"factor\" + str(index + 1)\n",
    "   tmp_columns.append(tmp)\n",
    "factor_score.columns = tmp_columns\n",
    "factor_score"
   ]
  },
  {
   "cell_type": "code",
   "execution_count": null,
   "id": "5914cfbf-bfe0-4dd3-868d-9be8c78bcb00",
   "metadata": {},
   "outputs": [],
   "source": [
    "fa_df_score = np.dot(np.mat(df_norm), np.mat(factor_score))\n",
    "fa_df_score"
   ]
  },
  {
   "cell_type": "code",
   "execution_count": null,
   "id": "2d4b34e5-9cf3-44f9-9fcd-9ee537c5f736",
   "metadata": {},
   "outputs": [],
   "source": [
    "fa_16_sd = fa.get_factor_variance()\n",
    "fa_16_df = pd.DataFrame(\n",
    "        {'特征值': fa_16_sd[0], '方差贡献率': fa_16_sd[1], '方差累计贡献率': fa_16_sd[2]})\n",
    "fa_16_df"
   ]
  },
  {
   "cell_type": "markdown",
   "id": "decd7a60-acd6-46c5-8322-ef543d30302c",
   "metadata": {},
   "source": [
    "- 熵权法"
   ]
  },
  {
   "cell_type": "code",
   "execution_count": 71,
   "id": "8fd9747c-47ba-4f52-84fc-1417e86474ae",
   "metadata": {},
   "outputs": [
    {
     "ename": "NameError",
     "evalue": "name 'fa_df_score' is not defined",
     "output_type": "error",
     "traceback": [
      "\u001b[1;31m---------------------------------------------------------------------------\u001b[0m",
      "\u001b[1;31mNameError\u001b[0m                                 Traceback (most recent call last)",
      "\u001b[1;32m<ipython-input-71-2bdde6f135f9>\u001b[0m in \u001b[0;36m<module>\u001b[1;34m\u001b[0m\n\u001b[0;32m     23\u001b[0m     \u001b[0mrecodes\u001b[0m\u001b[1;33m=\u001b[0m\u001b[0mnp\u001b[0m\u001b[1;33m.\u001b[0m\u001b[0msum\u001b[0m\u001b[1;33m(\u001b[0m\u001b[0mdata\u001b[0m\u001b[1;33m*\u001b[0m\u001b[0mw\u001b[0m\u001b[1;33m,\u001b[0m\u001b[0maxis\u001b[0m\u001b[1;33m=\u001b[0m\u001b[1;36m1\u001b[0m\u001b[1;33m)\u001b[0m\u001b[1;33m\u001b[0m\u001b[1;33m\u001b[0m\u001b[0m\n\u001b[0;32m     24\u001b[0m     \u001b[1;32mreturn\u001b[0m  \u001b[0mrecodes\u001b[0m\u001b[1;33m\u001b[0m\u001b[1;33m\u001b[0m\u001b[0m\n\u001b[1;32m---> 25\u001b[1;33m \u001b[0mw\u001b[0m \u001b[1;33m=\u001b[0m \u001b[0mget_entropy_weight\u001b[0m\u001b[1;33m(\u001b[0m\u001b[0mfa_df_score\u001b[0m\u001b[1;33m.\u001b[0m\u001b[0mT\u001b[0m\u001b[1;33m)\u001b[0m\u001b[1;33m\u001b[0m\u001b[1;33m\u001b[0m\u001b[0m\n\u001b[0m\u001b[0;32m     26\u001b[0m \u001b[0mw\u001b[0m\u001b[1;33m\u001b[0m\u001b[1;33m\u001b[0m\u001b[0m\n",
      "\u001b[1;31mNameError\u001b[0m: name 'fa_df_score' is not defined"
     ]
    }
   ],
   "source": [
    "import math\n",
    "def get_entropy_weight(data):\n",
    "    \"\"\"\n",
    "    :param data: 评价指标数据框\n",
    "    :return: 各指标权重列表\n",
    "    \"\"\" \n",
    "    data = pd.DataFrame(data)\n",
    "    data = data.apply(lambda data: ((data - np.min(data)) / (np.max(data) - np.min(data))))\n",
    "    #计算k\n",
    "    m,n=data.shape   #m是行，n是列\n",
    "    yij=np.array(data.sum(axis=0))  \n",
    "    data = np.array(data)\n",
    "    #计算pij\n",
    "    pij=np.array(data/yij)\n",
    "    a=pij*1.0\n",
    "    a[np.where(pij==0)]=0.0001\n",
    "#     print(pij)\n",
    "#     print(np.log(pij))\n",
    "#    #计算每个指标的熵\n",
    "    e=(-1.0/np.log(n))*np.sum(pij*np.log(a),axis=0)\n",
    "#    #计算权重\n",
    "    w=(1-e)/np.sum(1-e)\n",
    "    recodes=np.sum(data*w,axis=1)\n",
    "    return  recodes\n",
    "w = get_entropy_weight(fa_df_score.T)\n",
    "w"
   ]
  },
  {
   "cell_type": "markdown",
   "id": "f17252ce-cca2-401e-89ef-f003e3db8a46",
   "metadata": {},
   "source": [
    "## PCA降维"
   ]
  },
  {
   "cell_type": "code",
   "execution_count": 74,
   "id": "233954c7-1549-4cab-ada0-308ec3da9eda",
   "metadata": {},
   "outputs": [
    {
     "data": {
      "text/plain": [
       "array([0.15525145, 0.14334295, 0.10230067])"
      ]
     },
     "execution_count": 74,
     "metadata": {},
     "output_type": "execute_result"
    }
   ],
   "source": [
    "from sklearn.decomposition import PCA\n",
    "pca = PCA(n_components = 3)\n",
    "df_norm_d = pca.fit_transform(df_norm2)\n",
    "pca.explained_variance_ratio_"
   ]
  },
  {
   "cell_type": "code",
   "execution_count": null,
   "id": "7ea1d65f-7373-4e8a-bb44-ae3ff60aadb3",
   "metadata": {},
   "outputs": [],
   "source": [
    "#预测前十大恐怖事件的恐怖级别\n",
    "# score = (fa_df_score@w).T\n",
    "# sc = pd.DataFrame(score)\n",
    "# sc.columns = ['score']\n",
    "# sc = sc.sort_values(by='score',ascending=False)\n",
    "# sc_top10 = sc.head(10)\n",
    "# print(sc_top10.index.tolist())\n",
    "# td = terrorism_data.iloc[sc_top10.index.tolist(),:]\n",
    "from sklearn.cluster import KMeans\n",
    "kmeans = KMeans(n_clusters=5,random_state=0).fit(df_norm2)\n",
    "kmeans.cluster_centers_ \n",
    "labels = kmeans.labels_\n",
    "# gtf = pd.DataFrame(fa_df_score).iloc[[5139,11700,22894,59671,63638,72622,74130,83767,107031],:]\n",
    "# kmeans.predict(gtf)"
   ]
  },
  {
   "cell_type": "code",
   "execution_count": null,
   "id": "52f48b01-2ae4-4f9c-b664-d3847185aeeb",
   "metadata": {},
   "outputs": [],
   "source": [
    "label_num = {\"1\":0,\"2\":0,\"3\":0,\"4\":0,\"5\":0};\n",
    "index = []\n",
    "df = pd.DataFrame(df)\n",
    "df['label'] = 1\n",
    "for i in range(len(labels)):\n",
    "    df[\"label\"][i] = labels[i] \n",
    "    label_num[f\"{labels[i]+1}\"] = label_num[f\"{labels[i]+1}\"] + 1\n",
    "    if labels[i]==4:\n",
    "        index.append(i)\n",
    "df.head(10)"
   ]
  },
  {
   "cell_type": "code",
   "execution_count": null,
   "id": "49a029f5-1c89-4275-a76c-08db807677ad",
   "metadata": {},
   "outputs": [],
   "source": [
    "label_num"
   ]
  },
  {
   "cell_type": "code",
   "execution_count": null,
   "id": "c475adde-3b18-4b9e-bdbf-f249d5609576",
   "metadata": {},
   "outputs": [],
   "source": [
    "terrorism_data.iloc[index,:]"
   ]
  },
  {
   "cell_type": "code",
   "execution_count": null,
   "id": "ca3b32c8-a24f-4591-9e05-e52f55df32b1",
   "metadata": {},
   "outputs": [],
   "source": [
    "from sklearn.manifold import TSNE \n",
    "tsne=TSNE()\n",
    "tsne.fit_transform(df_norm2)  #进行数据降维,降成两维\n",
    "#a=tsne.fit_transform(data_zs) #a是一个array,a相当于下面的tsne_embedding\n",
    "tsne=pd.DataFrame(tsne.embedding_,index=df_norm2.index) #转换数据格式\n",
    "tsne\n",
    "# import matplotlib.pyplot as plt \n",
    "\n",
    "# d=tsne[df['label']==0]\n",
    "# plt.plot(d[0],d[1],'r.')\n",
    " \n",
    "# d=tsne[df['label']==1]\n",
    "# plt.plot(d[0],d[1],'go')\n",
    "\n",
    "# d=tsne[df['label']==2]\n",
    "# plt.plot(d[0],d[1],'b*')\n",
    "\n",
    "# d=tsne[df['label']==3]\n",
    "# plt.plot(d[0],d[1],'y*')\n",
    "\n",
    "# d=tsne[df['label']==4]\n",
    "# plt.plot(d[0],d[1],'po')"
   ]
  },
  {
   "cell_type": "code",
   "execution_count": null,
   "id": "fa667315-ce3c-49d4-a806-7b667324c92f",
   "metadata": {},
   "outputs": [],
   "source": [
    "import seaborn as sns\n",
    "sns.set_theme(style=\"ticks\")\n",
    "sns.pairplot(df, hue=\"label\")\n",
    "plt.cla()"
   ]
  },
  {
   "cell_type": "code",
   "execution_count": null,
   "id": "ffc761f1-79cc-4c7c-8a4e-b6b885dbac63",
   "metadata": {},
   "outputs": [],
   "source": [
    "latitude = td_remove['latitude']\n",
    "longitude = td_remove['longitude']\n",
    "latitude.shape[0]"
   ]
  },
  {
   "cell_type": "code",
   "execution_count": null,
   "id": "0e1d22ac-3d4a-4509-921e-16ba7a8d40dc",
   "metadata": {},
   "outputs": [],
   "source": [
    "fig = px.scatter_mapbox(td_remove,lat=td_remove['latitude'],lon=td_remove['longitude'])\n",
    "fig.update_layout(mapbox_style=\"open-street-map\")calculate_kmo"
   ]
  }
 ],
 "metadata": {
  "kernelspec": {
   "display_name": "Python [conda env:pytorch]",
   "language": "python",
   "name": "conda-env-pytorch-py"
  },
  "language_info": {
   "codemirror_mode": {
    "name": "ipython",
    "version": 3
   },
   "file_extension": ".py",
   "mimetype": "text/x-python",
   "name": "python",
   "nbconvert_exporter": "python",
   "pygments_lexer": "ipython3",
   "version": "3.7.10"
  }
 },
 "nbformat": 4,
 "nbformat_minor": 5
}

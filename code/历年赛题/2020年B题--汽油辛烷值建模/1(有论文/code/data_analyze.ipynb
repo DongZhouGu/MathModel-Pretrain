{
 "cells": [
  {
   "cell_type": "code",
   "execution_count": 4,
   "metadata": {},
   "outputs": [
    {
     "name": "stdout",
     "output_type": "stream",
     "text": [
      "Collecting xlrd\n",
      "  Downloading xlrd-1.2.0-py2.py3-none-any.whl (103 kB)\n",
      "Installing collected packages: xlrd\n",
      "Successfully installed xlrd-1.2.0\n"
     ]
    }
   ],
   "source": [
    "!pip install xlrd"
   ]
  },
  {
   "cell_type": "code",
   "execution_count": 81,
   "metadata": {},
   "outputs": [
    {
     "name": "stdout",
     "output_type": "stream",
     "text": [
      "Collecting parse\n",
      "  Downloading parse-1.18.0.tar.gz (30 kB)\n",
      "Building wheels for collected packages: parse\n",
      "  Building wheel for parse (setup.py): started\n",
      "  Building wheel for parse (setup.py): finished with status 'done'\n",
      "  Created wheel for parse: filename=parse-1.18.0-py3-none-any.whl size=24138 sha256=ba8413a5cff9a7228d4fef20a692d99c25d601568fb4d85ebaf3c01cb7e7b449\n",
      "  Stored in directory: c:\\users\\14686\\appdata\\local\\pip\\cache\\wheels\\05\\d6\\62\\d7e3a31cb5ac82c57423e083738882b792a9108b30cc05f579\n",
      "Successfully built parse\n",
      "Installing collected packages: parse\n",
      "Successfully installed parse-1.18.0\n"
     ]
    }
   ],
   "source": [
    "!pip install parse"
   ]
  },
  {
   "cell_type": "code",
   "execution_count": 18,
   "metadata": {},
   "outputs": [],
   "source": [
    "import pandas as pd\n",
    "import numpy as np\n",
    "import parse\n",
    "\n",
    "import pylab as plt"
   ]
  },
  {
   "cell_type": "code",
   "execution_count": 2,
   "metadata": {},
   "outputs": [],
   "source": [
    "df = pd.read_excel(\"附件一：325个样本数据.xlsx\", skiprows=[0, 1])"
   ]
  },
  {
   "cell_type": "code",
   "execution_count": 3,
   "metadata": {},
   "outputs": [],
   "source": [
    "columns = pd.Series(df.columns)\n",
    "columns[:2] = [\"sample_index\", \"time\"]\n",
    "df.columns = columns"
   ]
  },
  {
   "cell_type": "code",
   "execution_count": 4,
   "metadata": {},
   "outputs": [
    {
     "data": {
      "text/html": [
       "<div>\n",
       "<style scoped>\n",
       "    .dataframe tbody tr th:only-of-type {\n",
       "        vertical-align: middle;\n",
       "    }\n",
       "\n",
       "    .dataframe tbody tr th {\n",
       "        vertical-align: top;\n",
       "    }\n",
       "\n",
       "    .dataframe thead th {\n",
       "        text-align: right;\n",
       "    }\n",
       "</style>\n",
       "<table border=\"1\" class=\"dataframe\">\n",
       "  <thead>\n",
       "    <tr style=\"text-align: right;\">\n",
       "      <th></th>\n",
       "      <th>sample_index</th>\n",
       "      <th>time</th>\n",
       "      <th>硫含量,μg/g</th>\n",
       "      <th>辛烷值RON</th>\n",
       "      <th>饱和烃,v%（烷烃+环烷烃）</th>\n",
       "      <th>烯烃,v%</th>\n",
       "      <th>芳烃,v%</th>\n",
       "      <th>溴值\\n,gBr/100g</th>\n",
       "      <th>密度(20℃),\\nkg/m³</th>\n",
       "      <th>硫含量,μg/g.1</th>\n",
       "      <th>...</th>\n",
       "      <th>再生器藏量</th>\n",
       "      <th>加氢裂化轻石脑油进装置流量</th>\n",
       "      <th>汽油产品去气分流量</th>\n",
       "      <th>加氢裂化轻石脑油进装置累积流量</th>\n",
       "      <th>汽油产品去气分累积流量</th>\n",
       "      <th>8.0MPa氢气至循环氢压缩机入口</th>\n",
       "      <th>8.0MPa氢气至循环氢压缩机入口.1</th>\n",
       "      <th>8.0MPa氢气至反吹氢压缩机出口</th>\n",
       "      <th>8.0MPa氢气至反吹氢压缩机出口.1</th>\n",
       "      <th>D101原料缓冲罐压力</th>\n",
       "    </tr>\n",
       "  </thead>\n",
       "  <tbody>\n",
       "    <tr>\n",
       "      <th>0</th>\n",
       "      <td>1</td>\n",
       "      <td>2020/5/26 8:00:00</td>\n",
       "      <td>188.0</td>\n",
       "      <td>90.6</td>\n",
       "      <td>53.230000</td>\n",
       "      <td>24.400000</td>\n",
       "      <td>22.370000</td>\n",
       "      <td>61.487143</td>\n",
       "      <td>726.085714</td>\n",
       "      <td>3.2</td>\n",
       "      <td>...</td>\n",
       "      <td>2.045436</td>\n",
       "      <td>6368.74700</td>\n",
       "      <td>233.310805</td>\n",
       "      <td>83086802.0</td>\n",
       "      <td>832503.795</td>\n",
       "      <td>2216.40935</td>\n",
       "      <td>39063124.5</td>\n",
       "      <td>1840.14470</td>\n",
       "      <td>39608757.0</td>\n",
       "      <td>0.353271</td>\n",
       "    </tr>\n",
       "    <tr>\n",
       "      <th>1</th>\n",
       "      <td>2</td>\n",
       "      <td>2020/5/21 8:00:00</td>\n",
       "      <td>169.0</td>\n",
       "      <td>90.5</td>\n",
       "      <td>52.300000</td>\n",
       "      <td>26.400000</td>\n",
       "      <td>21.300000</td>\n",
       "      <td>61.880000</td>\n",
       "      <td>731.300000</td>\n",
       "      <td>3.2</td>\n",
       "      <td>...</td>\n",
       "      <td>2.025974</td>\n",
       "      <td>6360.64530</td>\n",
       "      <td>242.369205</td>\n",
       "      <td>82318954.0</td>\n",
       "      <td>803462.665</td>\n",
       "      <td>2370.58740</td>\n",
       "      <td>38810581.5</td>\n",
       "      <td>1641.73260</td>\n",
       "      <td>39389299.0</td>\n",
       "      <td>0.354504</td>\n",
       "    </tr>\n",
       "    <tr>\n",
       "      <th>2</th>\n",
       "      <td>3</td>\n",
       "      <td>2020/5/19 8:00:00</td>\n",
       "      <td>177.0</td>\n",
       "      <td>90.7</td>\n",
       "      <td>52.300000</td>\n",
       "      <td>26.314286</td>\n",
       "      <td>21.385714</td>\n",
       "      <td>61.722857</td>\n",
       "      <td>729.614286</td>\n",
       "      <td>3.2</td>\n",
       "      <td>...</td>\n",
       "      <td>1.964696</td>\n",
       "      <td>6504.96490</td>\n",
       "      <td>233.076925</td>\n",
       "      <td>82012004.0</td>\n",
       "      <td>791925.055</td>\n",
       "      <td>2326.46535</td>\n",
       "      <td>38693812.0</td>\n",
       "      <td>1600.67575</td>\n",
       "      <td>39312616.5</td>\n",
       "      <td>0.350181</td>\n",
       "    </tr>\n",
       "    <tr>\n",
       "      <th>3</th>\n",
       "      <td>4</td>\n",
       "      <td>2020/5/14 8:00:00</td>\n",
       "      <td>159.0</td>\n",
       "      <td>90.4</td>\n",
       "      <td>52.300000</td>\n",
       "      <td>26.100000</td>\n",
       "      <td>21.600000</td>\n",
       "      <td>61.330000</td>\n",
       "      <td>725.400000</td>\n",
       "      <td>3.2</td>\n",
       "      <td>...</td>\n",
       "      <td>2.039041</td>\n",
       "      <td>6506.82495</td>\n",
       "      <td>238.349935</td>\n",
       "      <td>81231373.5</td>\n",
       "      <td>762863.810</td>\n",
       "      <td>2495.22360</td>\n",
       "      <td>38410862.5</td>\n",
       "      <td>1563.71215</td>\n",
       "      <td>39120204.5</td>\n",
       "      <td>0.353930</td>\n",
       "    </tr>\n",
       "    <tr>\n",
       "      <th>4</th>\n",
       "      <td>5</td>\n",
       "      <td>2020/5/12 8:00:00</td>\n",
       "      <td>173.0</td>\n",
       "      <td>89.6</td>\n",
       "      <td>52.242857</td>\n",
       "      <td>26.671429</td>\n",
       "      <td>21.085714</td>\n",
       "      <td>61.332857</td>\n",
       "      <td>725.428571</td>\n",
       "      <td>3.2</td>\n",
       "      <td>...</td>\n",
       "      <td>1.986900</td>\n",
       "      <td>6560.24225</td>\n",
       "      <td>236.576220</td>\n",
       "      <td>80915707.5</td>\n",
       "      <td>751362.300</td>\n",
       "      <td>2807.78910</td>\n",
       "      <td>38283000.0</td>\n",
       "      <td>1554.35740</td>\n",
       "      <td>39045953.5</td>\n",
       "      <td>0.358053</td>\n",
       "    </tr>\n",
       "  </tbody>\n",
       "</table>\n",
       "<p>5 rows × 370 columns</p>\n",
       "</div>"
      ],
      "text/plain": [
       "   sample_index               time  硫含量,μg/g  辛烷值RON  饱和烃,v%（烷烃+环烷烃）  \\\n",
       "0             1  2020/5/26 8:00:00     188.0    90.6       53.230000   \n",
       "1             2  2020/5/21 8:00:00     169.0    90.5       52.300000   \n",
       "2             3  2020/5/19 8:00:00     177.0    90.7       52.300000   \n",
       "3             4  2020/5/14 8:00:00     159.0    90.4       52.300000   \n",
       "4             5  2020/5/12 8:00:00     173.0    89.6       52.242857   \n",
       "\n",
       "       烯烃,v%      芳烃,v%  溴值\\n,gBr/100g  密度(20℃),\\nkg/m³  硫含量,μg/g.1  ...  \\\n",
       "0  24.400000  22.370000      61.487143       726.085714         3.2  ...   \n",
       "1  26.400000  21.300000      61.880000       731.300000         3.2  ...   \n",
       "2  26.314286  21.385714      61.722857       729.614286         3.2  ...   \n",
       "3  26.100000  21.600000      61.330000       725.400000         3.2  ...   \n",
       "4  26.671429  21.085714      61.332857       725.428571         3.2  ...   \n",
       "\n",
       "      再生器藏量  加氢裂化轻石脑油进装置流量   汽油产品去气分流量  加氢裂化轻石脑油进装置累积流量  汽油产品去气分累积流量  \\\n",
       "0  2.045436     6368.74700  233.310805       83086802.0   832503.795   \n",
       "1  2.025974     6360.64530  242.369205       82318954.0   803462.665   \n",
       "2  1.964696     6504.96490  233.076925       82012004.0   791925.055   \n",
       "3  2.039041     6506.82495  238.349935       81231373.5   762863.810   \n",
       "4  1.986900     6560.24225  236.576220       80915707.5   751362.300   \n",
       "\n",
       "   8.0MPa氢气至循环氢压缩机入口  8.0MPa氢气至循环氢压缩机入口.1  8.0MPa氢气至反吹氢压缩机出口  \\\n",
       "0         2216.40935           39063124.5         1840.14470   \n",
       "1         2370.58740           38810581.5         1641.73260   \n",
       "2         2326.46535           38693812.0         1600.67575   \n",
       "3         2495.22360           38410862.5         1563.71215   \n",
       "4         2807.78910           38283000.0         1554.35740   \n",
       "\n",
       "   8.0MPa氢气至反吹氢压缩机出口.1  D101原料缓冲罐压力  \n",
       "0           39608757.0     0.353271  \n",
       "1           39389299.0     0.354504  \n",
       "2           39312616.5     0.350181  \n",
       "3           39120204.5     0.353930  \n",
       "4           39045953.5     0.358053  \n",
       "\n",
       "[5 rows x 370 columns]"
      ]
     },
     "execution_count": 4,
     "metadata": {},
     "output_type": "execute_result"
    }
   ],
   "source": [
    "df.head()"
   ]
  },
  {
   "cell_type": "markdown",
   "metadata": {},
   "source": [
    "# 对325个样本的分析与处理"
   ]
  },
  {
   "cell_type": "markdown",
   "metadata": {},
   "source": [
    "## 原料性质"
   ]
  },
  {
   "cell_type": "code",
   "execution_count": 5,
   "metadata": {},
   "outputs": [
    {
     "data": {
      "text/html": [
       "<div>\n",
       "<style scoped>\n",
       "    .dataframe tbody tr th:only-of-type {\n",
       "        vertical-align: middle;\n",
       "    }\n",
       "\n",
       "    .dataframe tbody tr th {\n",
       "        vertical-align: top;\n",
       "    }\n",
       "\n",
       "    .dataframe thead th {\n",
       "        text-align: right;\n",
       "    }\n",
       "</style>\n",
       "<table border=\"1\" class=\"dataframe\">\n",
       "  <thead>\n",
       "    <tr style=\"text-align: right;\">\n",
       "      <th></th>\n",
       "      <th>硫含量,μg/g</th>\n",
       "      <th>辛烷值RON</th>\n",
       "      <th>饱和烃,v%（烷烃+环烷烃）</th>\n",
       "      <th>烯烃,v%</th>\n",
       "      <th>芳烃,v%</th>\n",
       "      <th>溴值\\n,gBr/100g</th>\n",
       "      <th>密度(20℃),\\nkg/m³</th>\n",
       "    </tr>\n",
       "  </thead>\n",
       "  <tbody>\n",
       "    <tr>\n",
       "      <th>0</th>\n",
       "      <td>188.0</td>\n",
       "      <td>90.6</td>\n",
       "      <td>53.230000</td>\n",
       "      <td>24.400000</td>\n",
       "      <td>22.370000</td>\n",
       "      <td>61.487143</td>\n",
       "      <td>726.085714</td>\n",
       "    </tr>\n",
       "    <tr>\n",
       "      <th>1</th>\n",
       "      <td>169.0</td>\n",
       "      <td>90.5</td>\n",
       "      <td>52.300000</td>\n",
       "      <td>26.400000</td>\n",
       "      <td>21.300000</td>\n",
       "      <td>61.880000</td>\n",
       "      <td>731.300000</td>\n",
       "    </tr>\n",
       "    <tr>\n",
       "      <th>2</th>\n",
       "      <td>177.0</td>\n",
       "      <td>90.7</td>\n",
       "      <td>52.300000</td>\n",
       "      <td>26.314286</td>\n",
       "      <td>21.385714</td>\n",
       "      <td>61.722857</td>\n",
       "      <td>729.614286</td>\n",
       "    </tr>\n",
       "    <tr>\n",
       "      <th>3</th>\n",
       "      <td>159.0</td>\n",
       "      <td>90.4</td>\n",
       "      <td>52.300000</td>\n",
       "      <td>26.100000</td>\n",
       "      <td>21.600000</td>\n",
       "      <td>61.330000</td>\n",
       "      <td>725.400000</td>\n",
       "    </tr>\n",
       "    <tr>\n",
       "      <th>4</th>\n",
       "      <td>173.0</td>\n",
       "      <td>89.6</td>\n",
       "      <td>52.242857</td>\n",
       "      <td>26.671429</td>\n",
       "      <td>21.085714</td>\n",
       "      <td>61.332857</td>\n",
       "      <td>725.428571</td>\n",
       "    </tr>\n",
       "  </tbody>\n",
       "</table>\n",
       "</div>"
      ],
      "text/plain": [
       "   硫含量,μg/g  辛烷值RON  饱和烃,v%（烷烃+环烷烃）      烯烃,v%      芳烃,v%  溴值\\n,gBr/100g  \\\n",
       "0     188.0    90.6       53.230000  24.400000  22.370000      61.487143   \n",
       "1     169.0    90.5       52.300000  26.400000  21.300000      61.880000   \n",
       "2     177.0    90.7       52.300000  26.314286  21.385714      61.722857   \n",
       "3     159.0    90.4       52.300000  26.100000  21.600000      61.330000   \n",
       "4     173.0    89.6       52.242857  26.671429  21.085714      61.332857   \n",
       "\n",
       "   密度(20℃),\\nkg/m³  \n",
       "0       726.085714  \n",
       "1       731.300000  \n",
       "2       729.614286  \n",
       "3       725.400000  \n",
       "4       725.428571  "
      ]
     },
     "execution_count": 5,
     "metadata": {},
     "output_type": "execute_result"
    }
   ],
   "source": [
    "df.iloc[:,2:9].head()"
   ]
  },
  {
   "cell_type": "code",
   "execution_count": 6,
   "metadata": {},
   "outputs": [
    {
     "data": {
      "text/plain": [
       "(325, 7)"
      ]
     },
     "execution_count": 6,
     "metadata": {},
     "output_type": "execute_result"
    }
   ],
   "source": [
    "df.iloc[:,2:9].shape"
   ]
  },
  {
   "cell_type": "markdown",
   "metadata": {},
   "source": [
    "## 产品性质（2标签）"
   ]
  },
  {
   "cell_type": "code",
   "execution_count": 7,
   "metadata": {},
   "outputs": [
    {
     "data": {
      "text/html": [
       "<div>\n",
       "<style scoped>\n",
       "    .dataframe tbody tr th:only-of-type {\n",
       "        vertical-align: middle;\n",
       "    }\n",
       "\n",
       "    .dataframe tbody tr th {\n",
       "        vertical-align: top;\n",
       "    }\n",
       "\n",
       "    .dataframe thead th {\n",
       "        text-align: right;\n",
       "    }\n",
       "</style>\n",
       "<table border=\"1\" class=\"dataframe\">\n",
       "  <thead>\n",
       "    <tr style=\"text-align: right;\">\n",
       "      <th></th>\n",
       "      <th>硫含量,μg/g.1</th>\n",
       "      <th>辛烷值RON.1</th>\n",
       "      <th>RON损失\\n（不是变量）</th>\n",
       "    </tr>\n",
       "  </thead>\n",
       "  <tbody>\n",
       "    <tr>\n",
       "      <th>0</th>\n",
       "      <td>3.2</td>\n",
       "      <td>89.22</td>\n",
       "      <td>1.38</td>\n",
       "    </tr>\n",
       "    <tr>\n",
       "      <th>1</th>\n",
       "      <td>3.2</td>\n",
       "      <td>89.32</td>\n",
       "      <td>1.18</td>\n",
       "    </tr>\n",
       "    <tr>\n",
       "      <th>2</th>\n",
       "      <td>3.2</td>\n",
       "      <td>89.32</td>\n",
       "      <td>1.38</td>\n",
       "    </tr>\n",
       "    <tr>\n",
       "      <th>3</th>\n",
       "      <td>3.2</td>\n",
       "      <td>89.02</td>\n",
       "      <td>1.38</td>\n",
       "    </tr>\n",
       "    <tr>\n",
       "      <th>4</th>\n",
       "      <td>3.2</td>\n",
       "      <td>88.32</td>\n",
       "      <td>1.28</td>\n",
       "    </tr>\n",
       "  </tbody>\n",
       "</table>\n",
       "</div>"
      ],
      "text/plain": [
       "   硫含量,μg/g.1  辛烷值RON.1  RON损失\\n（不是变量）\n",
       "0         3.2     89.22           1.38\n",
       "1         3.2     89.32           1.18\n",
       "2         3.2     89.32           1.38\n",
       "3         3.2     89.02           1.38\n",
       "4         3.2     88.32           1.28"
      ]
     },
     "execution_count": 7,
     "metadata": {},
     "output_type": "execute_result"
    }
   ],
   "source": [
    "df.iloc[:,9:12].head()"
   ]
  },
  {
   "cell_type": "markdown",
   "metadata": {},
   "source": [
    "## 待生吸附剂性质"
   ]
  },
  {
   "cell_type": "code",
   "execution_count": 8,
   "metadata": {},
   "outputs": [
    {
     "data": {
      "text/html": [
       "<div>\n",
       "<style scoped>\n",
       "    .dataframe tbody tr th:only-of-type {\n",
       "        vertical-align: middle;\n",
       "    }\n",
       "\n",
       "    .dataframe tbody tr th {\n",
       "        vertical-align: top;\n",
       "    }\n",
       "\n",
       "    .dataframe thead th {\n",
       "        text-align: right;\n",
       "    }\n",
       "</style>\n",
       "<table border=\"1\" class=\"dataframe\">\n",
       "  <thead>\n",
       "    <tr style=\"text-align: right;\">\n",
       "      <th></th>\n",
       "      <th>焦炭,wt%</th>\n",
       "      <th>S, wt%</th>\n",
       "    </tr>\n",
       "  </thead>\n",
       "  <tbody>\n",
       "    <tr>\n",
       "      <th>0</th>\n",
       "      <td>2.32</td>\n",
       "      <td>7.30</td>\n",
       "    </tr>\n",
       "    <tr>\n",
       "      <th>1</th>\n",
       "      <td>2.37</td>\n",
       "      <td>7.34</td>\n",
       "    </tr>\n",
       "    <tr>\n",
       "      <th>2</th>\n",
       "      <td>2.43</td>\n",
       "      <td>7.27</td>\n",
       "    </tr>\n",
       "    <tr>\n",
       "      <th>3</th>\n",
       "      <td>3.08</td>\n",
       "      <td>7.35</td>\n",
       "    </tr>\n",
       "    <tr>\n",
       "      <th>4</th>\n",
       "      <td>2.45</td>\n",
       "      <td>6.58</td>\n",
       "    </tr>\n",
       "  </tbody>\n",
       "</table>\n",
       "</div>"
      ],
      "text/plain": [
       "   焦炭,wt%  S, wt%\n",
       "0    2.32    7.30\n",
       "1    2.37    7.34\n",
       "2    2.43    7.27\n",
       "3    3.08    7.35\n",
       "4    2.45    6.58"
      ]
     },
     "execution_count": 8,
     "metadata": {},
     "output_type": "execute_result"
    }
   ],
   "source": [
    "df.iloc[:,12:14].head()"
   ]
  },
  {
   "cell_type": "markdown",
   "metadata": {},
   "source": [
    "## 再生吸附剂性质"
   ]
  },
  {
   "cell_type": "code",
   "execution_count": 9,
   "metadata": {},
   "outputs": [
    {
     "data": {
      "text/html": [
       "<div>\n",
       "<style scoped>\n",
       "    .dataframe tbody tr th:only-of-type {\n",
       "        vertical-align: middle;\n",
       "    }\n",
       "\n",
       "    .dataframe tbody tr th {\n",
       "        vertical-align: top;\n",
       "    }\n",
       "\n",
       "    .dataframe thead th {\n",
       "        text-align: right;\n",
       "    }\n",
       "</style>\n",
       "<table border=\"1\" class=\"dataframe\">\n",
       "  <thead>\n",
       "    <tr style=\"text-align: right;\">\n",
       "      <th></th>\n",
       "      <th>焦炭,wt%.1</th>\n",
       "      <th>S, wt%.1</th>\n",
       "    </tr>\n",
       "  </thead>\n",
       "  <tbody>\n",
       "    <tr>\n",
       "      <th>0</th>\n",
       "      <td>1.84</td>\n",
       "      <td>5.98</td>\n",
       "    </tr>\n",
       "    <tr>\n",
       "      <th>1</th>\n",
       "      <td>0.55</td>\n",
       "      <td>4.38</td>\n",
       "    </tr>\n",
       "    <tr>\n",
       "      <th>2</th>\n",
       "      <td>1.89</td>\n",
       "      <td>5.82</td>\n",
       "    </tr>\n",
       "    <tr>\n",
       "      <th>3</th>\n",
       "      <td>0.98</td>\n",
       "      <td>4.67</td>\n",
       "    </tr>\n",
       "    <tr>\n",
       "      <th>4</th>\n",
       "      <td>0.83</td>\n",
       "      <td>4.52</td>\n",
       "    </tr>\n",
       "  </tbody>\n",
       "</table>\n",
       "</div>"
      ],
      "text/plain": [
       "   焦炭,wt%.1  S, wt%.1\n",
       "0      1.84      5.98\n",
       "1      0.55      4.38\n",
       "2      1.89      5.82\n",
       "3      0.98      4.67\n",
       "4      0.83      4.52"
      ]
     },
     "execution_count": 9,
     "metadata": {},
     "output_type": "execute_result"
    }
   ],
   "source": [
    "df.iloc[:,14:16].head()"
   ]
  },
  {
   "cell_type": "markdown",
   "metadata": {},
   "source": [
    "## 354个操作变量"
   ]
  },
  {
   "cell_type": "code",
   "execution_count": 11,
   "metadata": {},
   "outputs": [
    {
     "data": {
      "text/html": [
       "<div>\n",
       "<style scoped>\n",
       "    .dataframe tbody tr th:only-of-type {\n",
       "        vertical-align: middle;\n",
       "    }\n",
       "\n",
       "    .dataframe tbody tr th {\n",
       "        vertical-align: top;\n",
       "    }\n",
       "\n",
       "    .dataframe thead th {\n",
       "        text-align: right;\n",
       "    }\n",
       "</style>\n",
       "<table border=\"1\" class=\"dataframe\">\n",
       "  <thead>\n",
       "    <tr style=\"text-align: right;\">\n",
       "      <th></th>\n",
       "      <th>氢油比</th>\n",
       "      <th>反应过滤器压差</th>\n",
       "      <th>还原器压力</th>\n",
       "      <th>还原器流化氢气流量</th>\n",
       "      <th>反应器上部温度</th>\n",
       "      <th>反应器底部温度</th>\n",
       "      <th>反应器顶部压力</th>\n",
       "      <th>反应器顶底压差</th>\n",
       "      <th>反应过滤器压差.1</th>\n",
       "      <th>反吹氢气温度</th>\n",
       "      <th>...</th>\n",
       "      <th>再生器藏量</th>\n",
       "      <th>加氢裂化轻石脑油进装置流量</th>\n",
       "      <th>汽油产品去气分流量</th>\n",
       "      <th>加氢裂化轻石脑油进装置累积流量</th>\n",
       "      <th>汽油产品去气分累积流量</th>\n",
       "      <th>8.0MPa氢气至循环氢压缩机入口</th>\n",
       "      <th>8.0MPa氢气至循环氢压缩机入口.1</th>\n",
       "      <th>8.0MPa氢气至反吹氢压缩机出口</th>\n",
       "      <th>8.0MPa氢气至反吹氢压缩机出口.1</th>\n",
       "      <th>D101原料缓冲罐压力</th>\n",
       "    </tr>\n",
       "  </thead>\n",
       "  <tbody>\n",
       "    <tr>\n",
       "      <th>0</th>\n",
       "      <td>0.276318</td>\n",
       "      <td>31.211968</td>\n",
       "      <td>2.526857</td>\n",
       "      <td>647.752380</td>\n",
       "      <td>424.615900</td>\n",
       "      <td>421.608145</td>\n",
       "      <td>2.393991</td>\n",
       "      <td>101.290580</td>\n",
       "      <td>33.480159</td>\n",
       "      <td>240.088445</td>\n",
       "      <td>...</td>\n",
       "      <td>2.045436</td>\n",
       "      <td>6368.74700</td>\n",
       "      <td>233.310805</td>\n",
       "      <td>83086802.0</td>\n",
       "      <td>832503.795</td>\n",
       "      <td>2216.40935</td>\n",
       "      <td>39063124.5</td>\n",
       "      <td>1840.14470</td>\n",
       "      <td>39608757.0</td>\n",
       "      <td>0.353271</td>\n",
       "    </tr>\n",
       "    <tr>\n",
       "      <th>1</th>\n",
       "      <td>0.277127</td>\n",
       "      <td>31.461969</td>\n",
       "      <td>2.527411</td>\n",
       "      <td>651.821920</td>\n",
       "      <td>420.953385</td>\n",
       "      <td>417.927830</td>\n",
       "      <td>2.394113</td>\n",
       "      <td>101.544925</td>\n",
       "      <td>33.324023</td>\n",
       "      <td>239.809820</td>\n",
       "      <td>...</td>\n",
       "      <td>2.025974</td>\n",
       "      <td>6360.64530</td>\n",
       "      <td>242.369205</td>\n",
       "      <td>82318954.0</td>\n",
       "      <td>803462.665</td>\n",
       "      <td>2370.58740</td>\n",
       "      <td>38810581.5</td>\n",
       "      <td>1641.73260</td>\n",
       "      <td>39389299.0</td>\n",
       "      <td>0.354504</td>\n",
       "    </tr>\n",
       "    <tr>\n",
       "      <th>2</th>\n",
       "      <td>0.277013</td>\n",
       "      <td>31.339998</td>\n",
       "      <td>2.528865</td>\n",
       "      <td>650.747150</td>\n",
       "      <td>423.941065</td>\n",
       "      <td>420.003515</td>\n",
       "      <td>2.394545</td>\n",
       "      <td>101.618320</td>\n",
       "      <td>33.251831</td>\n",
       "      <td>239.742695</td>\n",
       "      <td>...</td>\n",
       "      <td>1.964696</td>\n",
       "      <td>6504.96490</td>\n",
       "      <td>233.076925</td>\n",
       "      <td>82012004.0</td>\n",
       "      <td>791925.055</td>\n",
       "      <td>2326.46535</td>\n",
       "      <td>38693812.0</td>\n",
       "      <td>1600.67575</td>\n",
       "      <td>39312616.5</td>\n",
       "      <td>0.350181</td>\n",
       "    </tr>\n",
       "    <tr>\n",
       "      <th>3</th>\n",
       "      <td>0.277222</td>\n",
       "      <td>31.033443</td>\n",
       "      <td>2.530589</td>\n",
       "      <td>652.669055</td>\n",
       "      <td>423.722805</td>\n",
       "      <td>419.964775</td>\n",
       "      <td>2.392854</td>\n",
       "      <td>105.029760</td>\n",
       "      <td>33.197268</td>\n",
       "      <td>239.732465</td>\n",
       "      <td>...</td>\n",
       "      <td>2.039041</td>\n",
       "      <td>6506.82495</td>\n",
       "      <td>238.349935</td>\n",
       "      <td>81231373.5</td>\n",
       "      <td>762863.810</td>\n",
       "      <td>2495.22360</td>\n",
       "      <td>38410862.5</td>\n",
       "      <td>1563.71215</td>\n",
       "      <td>39120204.5</td>\n",
       "      <td>0.353930</td>\n",
       "    </tr>\n",
       "    <tr>\n",
       "      <th>4</th>\n",
       "      <td>0.277310</td>\n",
       "      <td>30.826894</td>\n",
       "      <td>2.530938</td>\n",
       "      <td>649.340920</td>\n",
       "      <td>427.132000</td>\n",
       "      <td>422.128935</td>\n",
       "      <td>2.392715</td>\n",
       "      <td>105.937455</td>\n",
       "      <td>32.785944</td>\n",
       "      <td>239.835635</td>\n",
       "      <td>...</td>\n",
       "      <td>1.986900</td>\n",
       "      <td>6560.24225</td>\n",
       "      <td>236.576220</td>\n",
       "      <td>80915707.5</td>\n",
       "      <td>751362.300</td>\n",
       "      <td>2807.78910</td>\n",
       "      <td>38283000.0</td>\n",
       "      <td>1554.35740</td>\n",
       "      <td>39045953.5</td>\n",
       "      <td>0.358053</td>\n",
       "    </tr>\n",
       "  </tbody>\n",
       "</table>\n",
       "<p>5 rows × 354 columns</p>\n",
       "</div>"
      ],
      "text/plain": [
       "        氢油比    反应过滤器压差     还原器压力   还原器流化氢气流量     反应器上部温度     反应器底部温度  \\\n",
       "0  0.276318  31.211968  2.526857  647.752380  424.615900  421.608145   \n",
       "1  0.277127  31.461969  2.527411  651.821920  420.953385  417.927830   \n",
       "2  0.277013  31.339998  2.528865  650.747150  423.941065  420.003515   \n",
       "3  0.277222  31.033443  2.530589  652.669055  423.722805  419.964775   \n",
       "4  0.277310  30.826894  2.530938  649.340920  427.132000  422.128935   \n",
       "\n",
       "    反应器顶部压力     反应器顶底压差  反应过滤器压差.1      反吹氢气温度  ...     再生器藏量  加氢裂化轻石脑油进装置流量  \\\n",
       "0  2.393991  101.290580  33.480159  240.088445  ...  2.045436     6368.74700   \n",
       "1  2.394113  101.544925  33.324023  239.809820  ...  2.025974     6360.64530   \n",
       "2  2.394545  101.618320  33.251831  239.742695  ...  1.964696     6504.96490   \n",
       "3  2.392854  105.029760  33.197268  239.732465  ...  2.039041     6506.82495   \n",
       "4  2.392715  105.937455  32.785944  239.835635  ...  1.986900     6560.24225   \n",
       "\n",
       "    汽油产品去气分流量  加氢裂化轻石脑油进装置累积流量  汽油产品去气分累积流量  8.0MPa氢气至循环氢压缩机入口  \\\n",
       "0  233.310805       83086802.0   832503.795         2216.40935   \n",
       "1  242.369205       82318954.0   803462.665         2370.58740   \n",
       "2  233.076925       82012004.0   791925.055         2326.46535   \n",
       "3  238.349935       81231373.5   762863.810         2495.22360   \n",
       "4  236.576220       80915707.5   751362.300         2807.78910   \n",
       "\n",
       "   8.0MPa氢气至循环氢压缩机入口.1  8.0MPa氢气至反吹氢压缩机出口  8.0MPa氢气至反吹氢压缩机出口.1  D101原料缓冲罐压力  \n",
       "0           39063124.5         1840.14470           39608757.0     0.353271  \n",
       "1           38810581.5         1641.73260           39389299.0     0.354504  \n",
       "2           38693812.0         1600.67575           39312616.5     0.350181  \n",
       "3           38410862.5         1563.71215           39120204.5     0.353930  \n",
       "4           38283000.0         1554.35740           39045953.5     0.358053  \n",
       "\n",
       "[5 rows x 354 columns]"
      ]
     },
     "execution_count": 11,
     "metadata": {},
     "output_type": "execute_result"
    }
   ],
   "source": [
    "df.iloc[:,16:].head()"
   ]
  },
  {
   "cell_type": "code",
   "execution_count": 13,
   "metadata": {},
   "outputs": [],
   "source": [
    "from collections import Counter"
   ]
  },
  {
   "cell_type": "markdown",
   "metadata": {},
   "source": [
    "## 空值的分布情况"
   ]
  },
  {
   "cell_type": "markdown",
   "metadata": {},
   "source": [
    "每列缺失值分布情况"
   ]
  },
  {
   "cell_type": "code",
   "execution_count": 14,
   "metadata": {},
   "outputs": [
    {
     "data": {
      "text/plain": [
       "<AxesSubplot:>"
      ]
     },
     "execution_count": 14,
     "metadata": {},
     "output_type": "execute_result"
    },
    {
     "data": {
      "image/png": "[encoded data removed]",
      "text/plain": [
       "<Figure size 432x288 with 1 Axes>"
      ]
     },
     "metadata": {
      "needs_background": "light"
     },
     "output_type": "display_data"
    }
   ],
   "source": [
    "eq_0.hist()"
   ]
  },
  {
   "cell_type": "markdown",
   "metadata": {},
   "source": [
    "缺失率超过 1/6 "
   ]
  },
  {
   "cell_type": "code",
   "execution_count": 15,
   "metadata": {},
   "outputs": [
    {
     "data": {
      "text/plain": [
       "18"
      ]
     },
     "execution_count": 15,
     "metadata": {},
     "output_type": "execute_result"
    }
   ],
   "source": [
    "df.columns[eq_0>50].size"
   ]
  },
  {
   "cell_type": "code",
   "execution_count": 17,
   "metadata": {},
   "outputs": [],
   "source": [
    "%matplotlib inline"
   ]
  },
  {
   "cell_type": "code",
   "execution_count": 412,
   "metadata": {},
   "outputs": [],
   "source": [
    "ops = df.iloc[:, 15:].copy()"
   ]
  },
  {
   "cell_type": "code",
   "execution_count": 413,
   "metadata": {},
   "outputs": [],
   "source": [
    "eq_0 = (ops==0).sum()"
   ]
  },
  {
   "cell_type": "code",
   "execution_count": 414,
   "metadata": {},
   "outputs": [],
   "source": [
    "ops.columns = range(354)"
   ]
  },
  {
   "cell_type": "code",
   "execution_count": 415,
   "metadata": {},
   "outputs": [
    {
     "data": {
      "text/plain": [
       "Int64Index([ 12,  23,  24,  25,  27,  45,  46,  47,  73,  77,  88,  95, 109,\n",
       "            134, 150, 161, 162, 163, 196, 204, 207, 215, 222, 283, 298, 331,\n",
       "            345, 346, 347, 350, 352],\n",
       "           dtype='int64')"
      ]
     },
     "metadata": {},
     "output_type": "display_data"
    },
    {
     "data": {
      "text/plain": [
       "31"
      ]
     },
     "execution_count": 415,
     "metadata": {},
     "output_type": "execute_result"
    }
   ],
   "source": [
    "H = 1; display(ops.columns[eq_0>H]); ops.columns[eq_0>H].size"
   ]
  },
  {
   "cell_type": "markdown",
   "metadata": {},
   "source": [
    "可视化空值列的情况（从分布和时序变化情况入手）"
   ]
  },
  {
   "cell_type": "code",
   "execution_count": 416,
   "metadata": {
    "scrolled": true
   },
   "outputs": [
    {
     "name": "stdout",
     "output_type": "stream",
     "text": [
      "many 0 n_columns = 32\n"
     ]
    },
    {
     "data": {
      "image/png": "[encoded data removed]",
      "text/plain": [
       "<Figure size 432x288 with 2 Axes>"
      ]
     },
     "metadata": {
      "needs_background": "light"
     },
     "output_type": "display_data"
    },
    {
     "name": "stdout",
     "output_type": "stream",
     "text": [
      "column = 12\n",
      "n_zeros =  145\n",
      "mean =  96.29557126602798\n",
      "var =  8800.840702509338\n",
      "====================\n"
     ]
    },
    {
     "data": {
      "image/png": "[encoded data removed]",
      "text/plain": [
       "<Figure size 432x288 with 2 Axes>"
      ]
     },
     "metadata": {
      "needs_background": "light"
     },
     "output_type": "display_data"
    },
    {
     "name": "stdout",
     "output_type": "stream",
     "text": [
      "column = 23\n",
      "n_zeros =  4\n",
      "mean =  1095.7071060990706\n",
      "var =  382595.7353741357\n",
      "====================\n"
     ]
    },
    {
     "data": {
      "image/png": "[encoded data removed]",
      "text/plain": [
       "<Figure size 432x288 with 2 Axes>"
      ]
     },
     "metadata": {
      "needs_background": "light"
     },
     "output_type": "display_data"
    },
    {
     "name": "stdout",
     "output_type": "stream",
     "text": [
      "column = 24\n",
      "n_zeros =  288\n",
      "mean =  129.7268864630769\n",
      "var =  271357.1711993013\n",
      "====================\n"
     ]
    },
    {
     "data": {
      "image/png": "[encoded data removed]",
      "text/plain": [
       "<Figure size 432x288 with 2 Axes>"
      ]
     },
     "metadata": {
      "needs_background": "light"
     },
     "output_type": "display_data"
    },
    {
     "name": "stdout",
     "output_type": "stream",
     "text": [
      "column = 25\n",
      "n_zeros =  126\n",
      "mean =  883.2041032387297\n",
      "var =  726706.7969269729\n",
      "====================\n"
     ]
    },
    {
     "data": {
      "image/png": "[encoded data removed]",
      "text/plain": [
       "<Figure size 432x288 with 2 Axes>"
      ]
     },
     "metadata": {
      "needs_background": "light"
     },
     "output_type": "display_data"
    },
    {
     "name": "stdout",
     "output_type": "stream",
     "text": [
      "column = 27\n",
      "n_zeros =  134\n",
      "mean =  3.2396497526297208\n",
      "var =  36.16237101296654\n",
      "====================\n"
     ]
    },
    {
     "data": {
      "image/png": "[encoded data removed]",
      "text/plain": [
       "<Figure size 432x288 with 2 Axes>"
      ]
     },
     "metadata": {
      "needs_background": "light"
     },
     "output_type": "display_data"
    },
    {
     "name": "stdout",
     "output_type": "stream",
     "text": [
      "column = 38\n",
      "n_zeros =  1\n",
      "mean =  470.7497458040931\n",
      "var =  19475.821061347993\n",
      "====================\n"
     ]
    },
    {
     "data": {
      "image/png": "[encoded data removed]",
      "text/plain": [
       "<Figure size 432x288 with 2 Axes>"
      ]
     },
     "metadata": {
      "needs_background": "light"
     },
     "output_type": "display_data"
    },
    {
     "name": "stdout",
     "output_type": "stream",
     "text": [
      "column = 45\n",
      "n_zeros =  137\n",
      "mean =  71.79670307692307\n",
      "var =  4407.875120162856\n",
      "====================\n"
     ]
    },
    {
     "data": {
      "image/png": "[encoded data removed]",
      "text/plain": [
       "<Figure size 432x288 with 2 Axes>"
      ]
     },
     "metadata": {
      "needs_background": "light"
     },
     "output_type": "display_data"
    },
    {
     "name": "stdout",
     "output_type": "stream",
     "text": [
      "column = 46\n",
      "n_zeros =  4\n",
      "mean =  51.84964109210481\n",
      "var =  62.8411887965605\n",
      "====================\n"
     ]
    },
    {
     "data": {
      "image/png": "[encoded data removed]",
      "text/plain": [
       "<Figure size 432x288 with 2 Axes>"
      ]
     },
     "metadata": {
      "needs_background": "light"
     },
     "output_type": "display_data"
    },
    {
     "name": "stdout",
     "output_type": "stream",
     "text": [
      "column = 47\n",
      "n_zeros =  19\n",
      "mean =  66.01853417695237\n",
      "var =  508.3994953655987\n",
      "====================\n"
     ]
    },
    {
     "data": {
      "image/png": "[encoded data removed]",
      "text/plain": [
       "<Figure size 432x288 with 2 Axes>"
      ]
     },
     "metadata": {
      "needs_background": "light"
     },
     "output_type": "display_data"
    },
    {
     "name": "stdout",
     "output_type": "stream",
     "text": [
      "column = 73\n",
      "n_zeros =  219\n",
      "mean =  15.475980565199968\n",
      "var =  1698.1541251379344\n",
      "====================\n"
     ]
    },
    {
     "data": {
      "image/png": "[encoded data removed]",
      "text/plain": [
       "<Figure size 432x288 with 2 Axes>"
      ]
     },
     "metadata": {
      "needs_background": "light"
     },
     "output_type": "display_data"
    },
    {
     "name": "stdout",
     "output_type": "stream",
     "text": [
      "column = 77\n",
      "n_zeros =  214\n",
      "mean =  5.031604830576924\n",
      "var =  83.06388348187838\n",
      "====================\n"
     ]
    },
    {
     "data": {
      "image/png": "[encoded data removed]",
      "text/plain": [
       "<Figure size 432x288 with 2 Axes>"
      ]
     },
     "metadata": {
      "needs_background": "light"
     },
     "output_type": "display_data"
    },
    {
     "name": "stdout",
     "output_type": "stream",
     "text": [
      "column = 88\n",
      "n_zeros =  187\n",
      "mean =  256.56256026153847\n",
      "var =  89679.27871350407\n",
      "====================\n"
     ]
    },
    {
     "data": {
      "image/png": "[encoded data removed]",
      "text/plain": [
       "<Figure size 432x288 with 2 Axes>"
      ]
     },
     "metadata": {
      "needs_background": "light"
     },
     "output_type": "display_data"
    },
    {
     "name": "stdout",
     "output_type": "stream",
     "text": [
      "column = 95\n",
      "n_zeros =  123\n",
      "mean =  2417178.651207692\n",
      "var =  87635559112242.06\n",
      "====================\n"
     ]
    },
    {
     "data": {
      "image/png": "[encoded data removed]",
      "text/plain": [
       "<Figure size 432x288 with 2 Axes>"
      ]
     },
     "metadata": {
      "needs_background": "light"
     },
     "output_type": "display_data"
    },
    {
     "name": "stdout",
     "output_type": "stream",
     "text": [
      "column = 109\n",
      "n_zeros =  109\n",
      "mean =  81.49407479282796\n",
      "var =  4808.137432647388\n",
      "====================\n"
     ]
    },
    {
     "data": {
      "image/png": "[encoded data removed]",
      "text/plain": [
       "<Figure size 432x288 with 2 Axes>"
      ]
     },
     "metadata": {
      "needs_background": "light"
     },
     "output_type": "display_data"
    },
    {
     "name": "stdout",
     "output_type": "stream",
     "text": [
      "column = 134\n",
      "n_zeros =  3\n",
      "mean =  246.39906359335095\n",
      "var =  15660.75230972451\n",
      "====================\n"
     ]
    },
    {
     "data": {
      "image/png": "[encoded data removed]",
      "text/plain": [
       "<Figure size 432x288 with 2 Axes>"
      ]
     },
     "metadata": {
      "needs_background": "light"
     },
     "output_type": "display_data"
    },
    {
     "name": "stdout",
     "output_type": "stream",
     "text": [
      "column = 150\n",
      "n_zeros =  137\n",
      "mean =  15.765005393369908\n",
      "var =  181.34843744219546\n",
      "====================\n"
     ]
    },
    {
     "data": {
      "image/png": "[encoded data removed]",
      "text/plain": [
       "<Figure size 432x288 with 2 Axes>"
      ]
     },
     "metadata": {
      "needs_background": "light"
     },
     "output_type": "display_data"
    },
    {
     "name": "stdout",
     "output_type": "stream",
     "text": [
      "column = 161\n",
      "n_zeros =  2\n",
      "mean =  25.336321925572314\n",
      "var =  144.0213077339358\n",
      "====================\n"
     ]
    },
    {
     "data": {
      "image/png": "[encoded data removed]",
      "text/plain": [
       "<Figure size 432x288 with 2 Axes>"
      ]
     },
     "metadata": {
      "needs_background": "light"
     },
     "output_type": "display_data"
    },
    {
     "name": "stdout",
     "output_type": "stream",
     "text": [
      "column = 162\n",
      "n_zeros =  10\n",
      "mean =  12.030884836589687\n",
      "var =  66.8756241174203\n",
      "====================\n"
     ]
    },
    {
     "data": {
      "image/png": "[encoded data removed]",
      "text/plain": [
       "<Figure size 432x288 with 2 Axes>"
      ]
     },
     "metadata": {
      "needs_background": "light"
     },
     "output_type": "display_data"
    },
    {
     "name": "stdout",
     "output_type": "stream",
     "text": [
      "column = 163\n",
      "n_zeros =  3\n",
      "mean =  53.61600978877659\n",
      "var =  1864.603175319041\n",
      "====================\n"
     ]
    },
    {
     "data": {
      "image/png": "[encoded data removed]",
      "text/plain": [
       "<Figure size 432x288 with 2 Axes>"
      ]
     },
     "metadata": {
      "needs_background": "light"
     },
     "output_type": "display_data"
    },
    {
     "name": "stdout",
     "output_type": "stream",
     "text": [
      "column = 196\n",
      "n_zeros =  22\n",
      "mean =  207.1033576888568\n",
      "var =  18771.21524643706\n",
      "====================\n"
     ]
    },
    {
     "data": {
      "image/png": "[encoded data removed]",
      "text/plain": [
       "<Figure size 432x288 with 2 Axes>"
      ]
     },
     "metadata": {
      "needs_background": "light"
     },
     "output_type": "display_data"
    },
    {
     "name": "stdout",
     "output_type": "stream",
     "text": [
      "column = 204\n",
      "n_zeros =  307\n",
      "mean =  0.009969425043076923\n",
      "var =  0.002763872949324695\n",
      "====================\n"
     ]
    },
    {
     "data": {
      "image/png": "[encoded data removed]",
      "text/plain": [
       "<Figure size 432x288 with 2 Axes>"
      ]
     },
     "metadata": {
      "needs_background": "light"
     },
     "output_type": "display_data"
    },
    {
     "name": "stdout",
     "output_type": "stream",
     "text": [
      "column = 207\n",
      "n_zeros =  297\n",
      "mean =  0.054273643899999995\n",
      "var =  0.08721836851856082\n",
      "====================\n"
     ]
    },
    {
     "data": {
      "image/png": "[encoded data removed]",
      "text/plain": [
       "<Figure size 432x288 with 2 Axes>"
      ]
     },
     "metadata": {
      "needs_background": "light"
     },
     "output_type": "display_data"
    },
    {
     "name": "stdout",
     "output_type": "stream",
     "text": [
      "column = 215\n",
      "n_zeros =  308\n",
      "mean =  37.22107555369232\n",
      "var =  52766.585570909396\n",
      "====================\n"
     ]
    },
    {
     "data": {
      "image/png": "[encoded data removed]",
      "text/plain": [
       "<Figure size 432x288 with 2 Axes>"
      ]
     },
     "metadata": {
      "needs_background": "light"
     },
     "output_type": "display_data"
    },
    {
     "name": "stdout",
     "output_type": "stream",
     "text": [
      "column = 222\n",
      "n_zeros =  54\n",
      "mean =  23.383600833464612\n",
      "var =  252.3939022129706\n",
      "====================\n"
     ]
    },
    {
     "data": {
      "image/png": "[encoded data removed]",
      "text/plain": [
       "<Figure size 432x288 with 2 Axes>"
      ]
     },
     "metadata": {
      "needs_background": "light"
     },
     "output_type": "display_data"
    },
    {
     "name": "stdout",
     "output_type": "stream",
     "text": [
      "column = 283\n",
      "n_zeros =  2\n",
      "mean =  25.8664547207877\n",
      "var =  181.4558347798876\n",
      "====================\n"
     ]
    },
    {
     "data": {
      "image/png": "[encoded data removed]",
      "text/plain": [
       "<Figure size 432x288 with 2 Axes>"
      ]
     },
     "metadata": {
      "needs_background": "light"
     },
     "output_type": "display_data"
    },
    {
     "name": "stdout",
     "output_type": "stream",
     "text": [
      "column = 298\n",
      "n_zeros =  214\n",
      "mean =  30.033897021831503\n",
      "var =  1746.4690655792976\n",
      "====================\n"
     ]
    },
    {
     "data": {
      "image/png": "[encoded data removed]",
      "text/plain": [
       "<Figure size 432x288 with 2 Axes>"
      ]
     },
     "metadata": {
      "needs_background": "light"
     },
     "output_type": "display_data"
    },
    {
     "name": "stdout",
     "output_type": "stream",
     "text": [
      "column = 331\n",
      "n_zeros =  134\n",
      "mean =  48.573767815027445\n",
      "var =  3604.6278771029647\n",
      "====================\n"
     ]
    },
    {
     "data": {
      "image/png": "[encoded data removed]",
      "text/plain": [
       "<Figure size 432x288 with 2 Axes>"
      ]
     },
     "metadata": {
      "needs_background": "light"
     },
     "output_type": "display_data"
    },
    {
     "name": "stdout",
     "output_type": "stream",
     "text": [
      "column = 345\n",
      "n_zeros =  34\n",
      "mean =  4844.079520534118\n",
      "var =  5549279.178282852\n",
      "====================\n"
     ]
    },
    {
     "data": {
      "image/png": "[encoded data removed]",
      "text/plain": [
       "<Figure size 432x288 with 2 Axes>"
      ]
     },
     "metadata": {
      "needs_background": "light"
     },
     "output_type": "display_data"
    },
    {
     "name": "stdout",
     "output_type": "stream",
     "text": [
      "column = 346\n",
      "n_zeros =  84\n",
      "mean =  180.35895886620858\n",
      "var =  63920.36618775997\n",
      "====================\n"
     ]
    },
    {
     "data": {
      "image/png": "[encoded data removed]",
      "text/plain": [
       "<Figure size 432x288 with 2 Axes>"
      ]
     },
     "metadata": {
      "needs_background": "light"
     },
     "output_type": "display_data"
    },
    {
     "name": "stdout",
     "output_type": "stream",
     "text": [
      "column = 347\n",
      "n_zeros =  14\n",
      "mean =  67193797.21922044\n",
      "var =  1486408801658898.8\n",
      "====================\n"
     ]
    },
    {
     "data": {
      "image/png": "[encoded data removed]",
      "text/plain": [
       "<Figure size 432x288 with 2 Axes>"
      ]
     },
     "metadata": {
      "needs_background": "light"
     },
     "output_type": "display_data"
    },
    {
     "name": "stdout",
     "output_type": "stream",
     "text": [
      "column = 350\n",
      "n_zeros =  2\n",
      "mean =  15211257.402864473\n",
      "var =  112073184767666.78\n",
      "====================\n"
     ]
    },
    {
     "data": {
      "image/png": "[encoded data removed]",
      "text/plain": [
       "<Figure size 432x288 with 2 Axes>"
      ]
     },
     "metadata": {
      "needs_background": "light"
     },
     "output_type": "display_data"
    },
    {
     "name": "stdout",
     "output_type": "stream",
     "text": [
      "column = 352\n",
      "n_zeros =  2\n",
      "mean =  17601419.038560092\n",
      "var =  137043660644789.86\n",
      "====================\n"
     ]
    }
   ],
   "source": [
    "columns = ops.columns[eq_0>=H]\n",
    "print(f\"many 0 n_columns = {len(columns)}\")\n",
    "for column in columns:\n",
    "#     plt.set\n",
    "    plt.subplot(1,2,1)\n",
    "    (ops[column].hist())\n",
    "    plt.subplot(1,2,2)\n",
    "    plt.plot(ops[column].index, ops[column].tolist())\n",
    "    plt.show()\n",
    "    print(\"column =\", column)\n",
    "    print(\"n_zeros = \",np.count_nonzero(ops[column]==0))\n",
    "    print(\"mean = \",np.mean(ops[column]))\n",
    "    print(\"var = \",np.var(ops[column]))\n",
    "    print(\"=\"*20)"
   ]
  },
  {
   "cell_type": "markdown",
   "metadata": {},
   "source": [
    "指定不同的空值处理策略"
   ]
  },
  {
   "cell_type": "code",
   "execution_count": 423,
   "metadata": {},
   "outputs": [],
   "source": [
    "# 直接删除列\n",
    "delete_col_list = [12, 24, 25, 45, 46, 219, 214, 88, 95, 109, 150, 204, 207, 215, 222, 298, 331, 346]\n",
    "# 删除元素\n",
    "delete_elem_list = [23, 38, 47, 134, 161, 163, 196, 283, 345, 347, 350, 352]\n",
    "# 不管\n",
    "keep_going_list = [27, 162]"
   ]
  },
  {
   "cell_type": "markdown",
   "metadata": {},
   "source": [
    "## 处理空值"
   ]
  },
  {
   "cell_type": "code",
   "execution_count": 420,
   "metadata": {},
   "outputs": [
    {
     "data": {
      "text/plain": [
       "3"
      ]
     },
     "execution_count": 420,
     "metadata": {},
     "output_type": "execute_result"
    }
   ],
   "source": [
    "# 313 删除的空值变量\n",
    "ops.isna().sum().sum()"
   ]
  },
  {
   "cell_type": "code",
   "execution_count": 421,
   "metadata": {},
   "outputs": [],
   "source": [
    "for del_col in delete_elem_list:\n",
    "    mask=(ops[del_col]==0)\n",
    "    ops.iloc[mask, del_col]=np.nan\n",
    "    "
   ]
  },
  {
   "cell_type": "code",
   "execution_count": 422,
   "metadata": {},
   "outputs": [
    {
     "data": {
      "text/plain": [
       "111"
      ]
     },
     "execution_count": 422,
     "metadata": {},
     "output_type": "execute_result"
    }
   ],
   "source": [
    "# 直接删除空值元素\n",
    "ops.isna().sum().sum()"
   ]
  },
  {
   "cell_type": "code",
   "execution_count": 426,
   "metadata": {},
   "outputs": [],
   "source": [
    "for del_col in delete_col_list:\n",
    "    ops.pop(del_col)"
   ]
  },
  {
   "cell_type": "code",
   "execution_count": 428,
   "metadata": {},
   "outputs": [],
   "source": [
    "from sklearn.impute import SimpleImputer"
   ]
  },
  {
   "cell_type": "code",
   "execution_count": 430,
   "metadata": {},
   "outputs": [],
   "source": [
    "ops_ = SimpleImputer(strategy='mean').fit_transform(ops)"
   ]
  },
  {
   "cell_type": "code",
   "execution_count": 431,
   "metadata": {},
   "outputs": [],
   "source": [
    "ops = pd.DataFrame(ops_, columns =ops.columns)"
   ]
  },
  {
   "cell_type": "code",
   "execution_count": 434,
   "metadata": {},
   "outputs": [],
   "source": [
    "ops.columns = [f\"op{i}\" for i in ops.columns]"
   ]
  },
  {
   "cell_type": "markdown",
   "metadata": {},
   "source": [
    "## 对df列进行重命名并将ops整合进去"
   ]
  },
  {
   "cell_type": "code",
   "execution_count": 437,
   "metadata": {},
   "outputs": [],
   "source": [
    "pre_df = df.copy()"
   ]
  },
  {
   "cell_type": "code",
   "execution_count": 440,
   "metadata": {},
   "outputs": [],
   "source": [
    "pre_df.pop(\"time\");"
   ]
  },
  {
   "cell_type": "code",
   "execution_count": 448,
   "metadata": {},
   "outputs": [],
   "source": [
    "df1 = pre_df.iloc[:,:7].copy()"
   ]
  },
  {
   "cell_type": "code",
   "execution_count": 449,
   "metadata": {},
   "outputs": [],
   "source": [
    "df1.columns=[f\"raw{i}\" for i in range(7)]"
   ]
  },
  {
   "cell_type": "code",
   "execution_count": 454,
   "metadata": {},
   "outputs": [],
   "source": [
    "df2 = pre_df.iloc[:,7:10]"
   ]
  },
  {
   "cell_type": "code",
   "execution_count": 455,
   "metadata": {},
   "outputs": [],
   "source": [
    "df2.columns = [\"S\", \"RON\", \"RON_loss\"]"
   ]
  },
  {
   "cell_type": "code",
   "execution_count": 458,
   "metadata": {},
   "outputs": [],
   "source": [
    "df3 = pre_df.iloc[:,10:14].copy()"
   ]
  },
  {
   "cell_type": "code",
   "execution_count": 459,
   "metadata": {},
   "outputs": [],
   "source": [
    "df3.columns = [f\"prop{i}\" for i in range(4)]"
   ]
  },
  {
   "cell_type": "code",
   "execution_count": 461,
   "metadata": {},
   "outputs": [],
   "source": [
    "X_ = pd.concat([df1, df2, df3, ops], axis=1)"
   ]
  },
  {
   "cell_type": "code",
   "execution_count": 463,
   "metadata": {},
   "outputs": [],
   "source": [
    "X_.to_csv(\"processed.csv\", index=False)"
   ]
  },
  {
   "cell_type": "code",
   "execution_count": null,
   "metadata": {},
   "outputs": [],
   "source": []
  },
  {
   "cell_type": "markdown",
   "metadata": {},
   "source": [
    "# 分析取值范围"
   ]
  },
  {
   "cell_type": "code",
   "execution_count": 163,
   "metadata": {},
   "outputs": [],
   "source": [
    "op_df = pd.read_excel(\"附件四：354个操作变量信息.xlsx\")"
   ]
  },
  {
   "cell_type": "code",
   "execution_count": 164,
   "metadata": {},
   "outputs": [
    {
     "data": {
      "text/plain": [
       "0        0.20-0.37\n",
       "1            10-35\n",
       "2        2.35-2.70\n",
       "3         600-1000\n",
       "4          410-435\n",
       "          ...     \n",
       "349     60-5500000\n",
       "350     0-40000000\n",
       "351    -14000-3500\n",
       "352     0-40000000\n",
       "353       -125-0.5\n",
       "Name: 取值范围, Length: 354, dtype: object"
      ]
     },
     "execution_count": 164,
     "metadata": {},
     "output_type": "execute_result"
    }
   ],
   "source": [
    "op_df[\"取值范围\"]"
   ]
  },
  {
   "cell_type": "code",
   "execution_count": 165,
   "metadata": {},
   "outputs": [],
   "source": [
    "from parse import compile"
   ]
  },
  {
   "cell_type": "code",
   "execution_count": 166,
   "metadata": {},
   "outputs": [],
   "source": [
    "pattern = compile(\"{}-{}\")"
   ]
  },
  {
   "cell_type": "code",
   "execution_count": 167,
   "metadata": {},
   "outputs": [],
   "source": [
    "parsed=op_df[\"取值范围\"].apply(lambda x: pattern.parse(x))"
   ]
  },
  {
   "cell_type": "code",
   "execution_count": 168,
   "metadata": {},
   "outputs": [],
   "source": [
    "op_df[\"lower\"]=pd.to_numeric(parsed.apply(lambda x:eval(x[0])))"
   ]
  },
  {
   "cell_type": "code",
   "execution_count": 169,
   "metadata": {},
   "outputs": [],
   "source": [
    "op_df[\"upper\"]=pd.to_numeric(parsed.apply(lambda x:eval(x[1].replace(\"（\",\"(\").replace(\"）\",\")\"))))"
   ]
  },
  {
   "cell_type": "code",
   "execution_count": 170,
   "metadata": {},
   "outputs": [],
   "source": [
    "for i in range(354):\n",
    "    s = df.iloc[:, 15 + i]\n",
    "    min_ = s.min()\n",
    "    max_ = s.max()\n",
    "    op_df.loc[i, \"lower\"] = min(op_df.loc[i, \"lower\"], min_)\n",
    "    op_df.loc[i, \"upper\"] = max(op_df.loc[i, \"upper\"], max_)"
   ]
  },
  {
   "cell_type": "markdown",
   "metadata": {},
   "source": [
    "# 对285样本和313样本的处理"
   ]
  },
  {
   "cell_type": "code",
   "execution_count": 21,
   "metadata": {},
   "outputs": [],
   "source": [
    "d285 = pd.read_csv(\"285.csv\")"
   ]
  },
  {
   "cell_type": "code",
   "execution_count": 22,
   "metadata": {},
   "outputs": [],
   "source": [
    "d313 = pd.read_csv(\"313.csv\")"
   ]
  },
  {
   "cell_type": "code",
   "execution_count": 30,
   "metadata": {},
   "outputs": [
    {
     "name": "stdout",
     "output_type": "stream",
     "text": [
      "48 40\n",
      "83 40\n",
      "110 40\n"
     ]
    }
   ],
   "source": [
    "for i in range(354):\n",
    "    logic = ~np.logical_and(d285.iloc[:,i+1]>=op_df.loc[i,\"lower\"] , d285.iloc[:,i+1]<=op_df.loc[i,\"upper\"])\n",
    "    n_invalids = (logic.sum())\n",
    "    if n_invalids>0:\n",
    "        print(i, n_invalids)"
   ]
  },
  {
   "cell_type": "code",
   "execution_count": 31,
   "metadata": {},
   "outputs": [
    {
     "data": {
      "text/plain": [
       "33"
      ]
     },
     "execution_count": 31,
     "metadata": {},
     "output_type": "execute_result"
    }
   ],
   "source": [
    "np.count_nonzero(d285.var()==0)"
   ]
  },
  {
   "cell_type": "code",
   "execution_count": 32,
   "metadata": {},
   "outputs": [
    {
     "data": {
      "text/plain": [
       "(40, 355)"
      ]
     },
     "execution_count": 32,
     "metadata": {},
     "output_type": "execute_result"
    }
   ],
   "source": [
    "d285.shape"
   ]
  },
  {
   "cell_type": "code",
   "execution_count": 33,
   "metadata": {},
   "outputs": [
    {
     "data": {
      "text/plain": [
       "(354,)"
      ]
     },
     "execution_count": 33,
     "metadata": {},
     "output_type": "execute_result"
    }
   ],
   "source": [
    "(d285.var()==0).shape"
   ]
  },
  {
   "cell_type": "code",
   "execution_count": 34,
   "metadata": {},
   "outputs": [
    {
     "data": {
      "text/plain": [
       "(40, 11)"
      ]
     },
     "execution_count": 34,
     "metadata": {},
     "output_type": "execute_result"
    }
   ],
   "source": [
    "d285[d285.columns[np.all(d285==0, axis=0)]].shape"
   ]
  },
  {
   "cell_type": "code",
   "execution_count": 35,
   "metadata": {},
   "outputs": [],
   "source": [
    "d285_ = d285.drop(\"time\", axis=1)"
   ]
  },
  {
   "cell_type": "code",
   "execution_count": 64,
   "metadata": {},
   "outputs": [],
   "source": [
    "d313_ = d313.drop(\"time\", axis=1)"
   ]
  },
  {
   "cell_type": "code",
   "execution_count": 37,
   "metadata": {},
   "outputs": [
    {
     "data": {
      "text/plain": [
       "array([ 24,  45,  73,  95, 109, 150, 204, 207, 215, 298, 331])"
      ]
     },
     "execution_count": 37,
     "metadata": {},
     "output_type": "execute_result"
    }
   ],
   "source": [
    "np.arange(354)[np.all(d285_==0, axis=0)]"
   ]
  },
  {
   "cell_type": "code",
   "execution_count": 38,
   "metadata": {},
   "outputs": [
    {
     "data": {
      "text/plain": [
       "Index(['新氢进装置流量', '1#催化汽油进装置流量', 'D121顶去放火炬流量', '新氢进装置流量.1', 'Unnamed: 110',\n",
       "       'D-109松动风流量', '进料调节阀旁路流量', '紧急氢气去D-102流量', '补充氢压缩机出口返回管流量',\n",
       "       'EH-102加热元件/A束温度', 'D-201含硫污水排量'],\n",
       "      dtype='object')"
      ]
     },
     "execution_count": 38,
     "metadata": {},
     "output_type": "execute_result"
    }
   ],
   "source": [
    "d285_.columns[(d285_==0).sum()>10]"
   ]
  },
  {
   "cell_type": "code",
   "execution_count": 39,
   "metadata": {},
   "outputs": [
    {
     "data": {
      "text/plain": [
       "新氢进装置流量            40\n",
       "1#催化汽油进装置流量        40\n",
       "D121顶去放火炬流量        40\n",
       "新氢进装置流量.1          40\n",
       "Unnamed: 110       40\n",
       "D-109松动风流量         40\n",
       "进料调节阀旁路流量          40\n",
       "紧急氢气去D-102流量       40\n",
       "补充氢压缩机出口返回管流量      40\n",
       "EH-102加热元件/A束温度    40\n",
       "D-201含硫污水排量        40\n",
       "dtype: int64"
      ]
     },
     "execution_count": 39,
     "metadata": {},
     "output_type": "execute_result"
    }
   ],
   "source": [
    "(d285_[d285_.columns[(d285_==0).sum()>=1]]==0).sum()"
   ]
  },
  {
   "cell_type": "code",
   "execution_count": 40,
   "metadata": {},
   "outputs": [
    {
     "data": {
      "text/plain": [
       "新氢进装置流量            40\n",
       "1#催化汽油进装置流量        40\n",
       "新氢进装置流量.1          40\n",
       "Unnamed: 109        2\n",
       "D-109松动风流量         40\n",
       "D-106热氮气流量         16\n",
       "Unnamed: 175        6\n",
       "进料调节阀旁路流量          40\n",
       "紧急氢气去D-102流量       40\n",
       "补充氢压缩机出口返回管流量      40\n",
       "3.0步骤FIC2432.SP    16\n",
       "EH-102加热元件/A束温度    40\n",
       "D-121含硫污水排量         2\n",
       "dtype: int64"
      ]
     },
     "execution_count": 40,
     "metadata": {},
     "output_type": "execute_result"
    }
   ],
   "source": [
    "(d313_[d313_.columns[(d313_==0).sum()>=1]]==0).sum()"
   ]
  },
  {
   "cell_type": "markdown",
   "metadata": {},
   "source": [
    "## 313 部分空值填充均值"
   ]
  },
  {
   "cell_type": "code",
   "execution_count": null,
   "metadata": {},
   "outputs": [],
   "source": [
    "column = \"Unnamed: 109\""
   ]
  },
  {
   "cell_type": "code",
   "execution_count": 65,
   "metadata": {},
   "outputs": [
    {
     "data": {
      "text/plain": [
       "[<matplotlib.lines.Line2D at 0x1f7e9bf3088>]"
      ]
     },
     "execution_count": 65,
     "metadata": {},
     "output_type": "execute_result"
    },
    {
     "data": {
      "image/png": "[encoded data removed]",
      "text/plain": [
       "<Figure size 432x288 with 1 Axes>"
      ]
     },
     "metadata": {
      "needs_background": "light"
     },
     "output_type": "display_data"
    }
   ],
   "source": [
    "s=d313_[\"Unnamed: 109\"]; plt.plot(s.index, s.tolist()) # 2 zeros [24, 25]"
   ]
  },
  {
   "cell_type": "code",
   "execution_count": 66,
   "metadata": {},
   "outputs": [],
   "source": [
    "mask = (d313_[column]==0)\n",
    "d313_.loc[mask, column] = d313_.loc[~mask, column].mean()"
   ]
  },
  {
   "cell_type": "code",
   "execution_count": 67,
   "metadata": {},
   "outputs": [
    {
     "data": {
      "text/plain": [
       "[<matplotlib.lines.Line2D at 0x1f7e9c661c8>]"
      ]
     },
     "execution_count": 67,
     "metadata": {},
     "output_type": "execute_result"
    },
    {
     "data": {
      "image/png": "[encoded data removed]",
      "text/plain": [
       "<Figure size 432x288 with 1 Axes>"
      ]
     },
     "metadata": {
      "needs_background": "light"
     },
     "output_type": "display_data"
    }
   ],
   "source": [
    "s=d313_[column]; plt.plot(s.index, s.tolist())"
   ]
  },
  {
   "cell_type": "code",
   "execution_count": 71,
   "metadata": {},
   "outputs": [],
   "source": [
    "column = \"D-121含硫污水排量\""
   ]
  },
  {
   "cell_type": "code",
   "execution_count": 72,
   "metadata": {},
   "outputs": [
    {
     "data": {
      "text/plain": [
       "[<matplotlib.lines.Line2D at 0x1f7e9d491c8>]"
      ]
     },
     "execution_count": 72,
     "metadata": {},
     "output_type": "execute_result"
    },
    {
     "data": {
      "image/png": "[encoded data removed]",
      "text/plain": [
       "<Figure size 432x288 with 1 Axes>"
      ]
     },
     "metadata": {
      "needs_background": "light"
     },
     "output_type": "display_data"
    }
   ],
   "source": [
    "s=d313_[column]; plt.plot(s.index, s.tolist()) # 2 zeros [24, 25]"
   ]
  },
  {
   "cell_type": "code",
   "execution_count": 73,
   "metadata": {},
   "outputs": [],
   "source": [
    "mask = (d313_[column]==0)\n",
    "d313_.loc[mask, column] = d313_.loc[~mask, column].mean()"
   ]
  },
  {
   "cell_type": "code",
   "execution_count": 74,
   "metadata": {},
   "outputs": [
    {
     "data": {
      "text/plain": [
       "[<matplotlib.lines.Line2D at 0x1f7e9dbb248>]"
      ]
     },
     "execution_count": 74,
     "metadata": {},
     "output_type": "execute_result"
    },
    {
     "data": {
      "image/png": "[encoded data removed]",
      "text/plain": [
       "<Figure size 432x288 with 1 Axes>"
      ]
     },
     "metadata": {
      "needs_background": "light"
     },
     "output_type": "display_data"
    }
   ],
   "source": [
    "s=d313_[column]; plt.plot(s.index, s.tolist())"
   ]
  },
  {
   "cell_type": "markdown",
   "metadata": {},
   "source": [
    "## 313 部分空值变量应该删除"
   ]
  },
  {
   "cell_type": "code",
   "execution_count": 43,
   "metadata": {},
   "outputs": [
    {
     "data": {
      "text/plain": [
       "[<matplotlib.lines.Line2D at 0x1f7e979c4c8>]"
      ]
     },
     "execution_count": 43,
     "metadata": {},
     "output_type": "execute_result"
    },
    {
     "data": {
      "image/png": "[encoded data removed]",
      "text/plain": [
       "<Figure size 432x288 with 1 Axes>"
      ]
     },
     "metadata": {
      "needs_background": "light"
     },
     "output_type": "display_data"
    }
   ],
   "source": [
    "s=d313_[\"D-106热氮气流量\"]; plt.plot(s.index, s.tolist())"
   ]
  },
  {
   "cell_type": "code",
   "execution_count": 44,
   "metadata": {},
   "outputs": [
    {
     "data": {
      "text/plain": [
       "[<matplotlib.lines.Line2D at 0x1f7e9811688>]"
      ]
     },
     "execution_count": 44,
     "metadata": {},
     "output_type": "execute_result"
    },
    {
     "data": {
      "image/png": "[encoded data removed]",
      "text/plain": [
       "<Figure size 432x288 with 1 Axes>"
      ]
     },
     "metadata": {
      "needs_background": "light"
     },
     "output_type": "display_data"
    }
   ],
   "source": [
    "s=d313_[\"Unnamed: 175\"]; plt.plot(s.index, s.tolist()) # 6 zeros"
   ]
  },
  {
   "cell_type": "code",
   "execution_count": 45,
   "metadata": {},
   "outputs": [
    {
     "data": {
      "text/plain": [
       "[<matplotlib.lines.Line2D at 0x1f7e987bb48>]"
      ]
     },
     "execution_count": 45,
     "metadata": {},
     "output_type": "execute_result"
    },
    {
     "data": {
      "image/png": "[encoded data removed]",
      "text/plain": [
       "<Figure size 432x288 with 1 Axes>"
      ]
     },
     "metadata": {
      "needs_background": "light"
     },
     "output_type": "display_data"
    }
   ],
   "source": [
    "s=d313_[\"3.0步骤FIC2432.SP\"]; plt.plot(s.index, s.tolist()) # 16 zeros"
   ]
  },
  {
   "cell_type": "code",
   "execution_count": 84,
   "metadata": {},
   "outputs": [
    {
     "data": {
      "text/plain": [
       "array([161, 174, 283])"
      ]
     },
     "execution_count": 84,
     "metadata": {},
     "output_type": "execute_result"
    }
   ],
   "source": [
    "np.arange(354)[d313_.columns.isin([\"D-106热氮气流量\", \"Unnamed: 175\", \"3.0步骤FIC2432.SP\"])]"
   ]
  },
  {
   "cell_type": "code",
   "execution_count": 419,
   "metadata": {},
   "outputs": [],
   "source": [
    "ops.iloc[312,[161, 174, 283]] = np.nan"
   ]
  },
  {
   "cell_type": "code",
   "execution_count": 401,
   "metadata": {},
   "outputs": [
    {
     "data": {
      "text/plain": [
       "D-106热氮气流量          36.018813\n",
       "Unnamed: 175       162.596557\n",
       "3.0步骤FIC2432.SP     37.024794\n",
       "dtype: float64"
      ]
     },
     "execution_count": 401,
     "metadata": {},
     "output_type": "execute_result"
    }
   ],
   "source": [
    "d313_m[[161, 174, 283]]"
   ]
  },
  {
   "cell_type": "code",
   "execution_count": 85,
   "metadata": {},
   "outputs": [
    {
     "data": {
      "text/plain": [
       "time                   2017/5/15 8:00:00\n",
       "硫含量,μg/g                             392\n",
       "辛烷值RON                              90.3\n",
       "饱和烃,v%（烷烃+环烷烃）                     55.05\n",
       "烯烃,v%                              20.89\n",
       "                             ...        \n",
       "8.0MPa氢气至循环氢压缩机入口                1943.69\n",
       "8.0MPa氢气至循环氢压缩机入口.1          2.14949e+06\n",
       "8.0MPa氢气至反吹氢压缩机出口                2501.85\n",
       "8.0MPa氢气至反吹氢压缩机出口.1          2.15416e+06\n",
       "D101原料缓冲罐压力                     -113.376\n",
       "Name: 313, Length: 369, dtype: object"
      ]
     },
     "execution_count": 85,
     "metadata": {},
     "output_type": "execute_result"
    }
   ],
   "source": [
    "df.loc[313,:]"
   ]
  },
  {
   "cell_type": "code",
   "execution_count": 88,
   "metadata": {},
   "outputs": [
    {
     "data": {
      "text/plain": [
       "氢油比                       0.261936\n",
       "反应过滤器压差                    17.1835\n",
       "还原器压力                      2.41706\n",
       "还原器流化氢气流量                  850.301\n",
       "反应器上部温度                    424.969\n",
       "                          ...     \n",
       "8.0MPa氢气至循环氢压缩机入口          1943.69\n",
       "8.0MPa氢气至循环氢压缩机入口.1    2.14949e+06\n",
       "8.0MPa氢气至反吹氢压缩机出口          2501.85\n",
       "8.0MPa氢气至反吹氢压缩机出口.1    2.15416e+06\n",
       "D101原料缓冲罐压力               -113.376\n",
       "Name: 313, Length: 354, dtype: object"
      ]
     },
     "execution_count": 88,
     "metadata": {},
     "output_type": "execute_result"
    }
   ],
   "source": [
    "df.iloc[312,15:]"
   ]
  },
  {
   "cell_type": "code",
   "execution_count": 101,
   "metadata": {},
   "outputs": [
    {
     "name": "stdout",
     "output_type": "stream",
     "text": [
      "86 14755121.25 14795000.0\n",
      "93 18346556.0 18300000.0\n",
      "98 21155841.0 21200000.0\n",
      "99 10469520.0 10500000.0\n",
      "103 48172662.0 48200000.0\n",
      "104 23661272.0 23700000.0\n",
      "108 47.222061350000004 49.707433\n",
      "329 47.222061350000004 49.707433\n",
      "347 87939278.25 87900000.0\n"
     ]
    }
   ],
   "source": [
    "not_eq = []\n",
    "for i,(a, b) in enumerate(zip(df.iloc[312,15:], d313_.mean())):\n",
    "    if not f\"{a:.04}\"==f\"{b:.04}\":\n",
    "        print(i, a, b)\n",
    "        not_eq.append(i)\n",
    "#     print(f\"{a:.04}\\t{b:.04}\")"
   ]
  },
  {
   "cell_type": "code",
   "execution_count": 175,
   "metadata": {},
   "outputs": [
    {
     "name": "stdout",
     "output_type": "stream",
     "text": [
      "32 3\n",
      "38 1\n",
      "42 20\n",
      "43 4\n",
      "58 2\n",
      "62 5\n",
      "85 2\n",
      "132 1\n",
      "155 8\n",
      "156 10\n",
      "161 6\n",
      "174 8\n",
      "209 3\n",
      "212 3\n",
      "216 14\n",
      "218 4\n",
      "220 3\n",
      "240 3\n",
      "241 4\n",
      "242 7\n",
      "243 6\n",
      "247 2\n",
      "291 9\n",
      "316 7\n",
      "322 1\n"
     ]
    }
   ],
   "source": [
    "cur_df = d313_\n",
    "invalids = []\n",
    "all_invalids=[]\n",
    "for i in range(354):\n",
    "    logic = ~np.logical_and(cur_df.iloc[:,i]>=op_df.loc[i,\"lower\"] , cur_df.iloc[:,i]<=op_df.loc[i,\"upper\"])\n",
    "    n_invalids = (logic.sum())\n",
    "    if n_invalids>0:\n",
    "        print(i, n_invalids)\n",
    "        all_invalids.extend(np.arange(40)[logic])"
   ]
  },
  {
   "cell_type": "markdown",
   "metadata": {},
   "source": [
    "## 删除313中的超出范围的异常样本"
   ]
  },
  {
   "cell_type": "code",
   "execution_count": 336,
   "metadata": {},
   "outputs": [],
   "source": [
    "cur_df = d313_\n",
    "invalids = []\n",
    "invalid_degrees = np.zeros([40])\n",
    "for i in range(354):\n",
    "    logic = ~np.logical_and(cur_df.iloc[:,i]>=op_df.loc[i,\"lower\"] , cur_df.iloc[:,i]<=op_df.loc[i,\"upper\"])\n",
    "    n_invalids = (logic.sum())\n",
    "    if n_invalids>0:\n",
    "        for j in range(40):\n",
    "            if cur_df.iloc[j,i] < op_df.loc[i,\"lower\"]:\n",
    "                exceed = op_df.loc[i,\"lower\"] - cur_df.iloc[j,i]\n",
    "            elif cur_df.iloc[j,i] > op_df.loc[i,\"upper\"]:\n",
    "                exceed = cur_df.iloc[j,i] - op_df.loc[i,\"upper\"]\n",
    "            else:\n",
    "                exceed = 0\n",
    "            invalid_degrees[j] += exceed / (op_df.loc[i,\"upper\"] - op_df.loc[i,\"lower\"])\n",
    "                "
   ]
  },
  {
   "cell_type": "code",
   "execution_count": 338,
   "metadata": {},
   "outputs": [
    {
     "data": {
      "text/plain": [
       "array([1.98628265e+00, 1.86821617e+00, 1.53131904e+00, 1.51467079e+00,\n",
       "       1.29830440e+00, 1.05739038e+00, 8.76192771e-01, 8.66199545e-01,\n",
       "       7.70276000e-01, 6.58064620e-01, 6.04762782e-01, 4.75432321e-01,\n",
       "       4.66998655e-01, 4.57913571e-01, 4.54182877e-01, 4.47111764e-01,\n",
       "       4.41699726e-01, 4.40394643e-01, 4.30023264e-01, 4.25066526e-01,\n",
       "       4.05357143e-01, 1.94649507e-01, 1.07119400e-01, 8.88135411e-02,\n",
       "       8.57846939e-02, 8.48089307e-02, 7.73301667e-02, 6.88826667e-02,\n",
       "       6.58551333e-02, 6.28662177e-02, 6.10434966e-02, 5.27568333e-02,\n",
       "       5.17716071e-02, 5.00271667e-02, 4.64777333e-02, 1.79371667e-02,\n",
       "       1.76900000e-02, 2.12000000e-03, 4.67111111e-04, 0.00000000e+00])"
      ]
     },
     "execution_count": 338,
     "metadata": {},
     "output_type": "execute_result"
    }
   ],
   "source": [
    "-np.sort(-invalid_degrees)"
   ]
  },
  {
   "cell_type": "code",
   "execution_count": null,
   "metadata": {},
   "outputs": [],
   "source": [
    "plt.hist()"
   ]
  },
  {
   "cell_type": "code",
   "execution_count": 339,
   "metadata": {},
   "outputs": [
    {
     "data": {
      "text/plain": [
       "array([18, 27, 25, 10, 17, 16], dtype=int64)"
      ]
     },
     "execution_count": 339,
     "metadata": {},
     "output_type": "execute_result"
    }
   ],
   "source": [
    "(-invalid_degrees).argsort()[:6]"
   ]
  },
  {
   "cell_type": "code",
   "execution_count": 331,
   "metadata": {},
   "outputs": [
    {
     "data": {
      "text/plain": [
       "[27, 19, 37, 18, 25, 7, 8, 16, 26, 36]"
      ]
     },
     "execution_count": 331,
     "metadata": {},
     "output_type": "execute_result"
    }
   ],
   "source": [
    "[item[0] for item in Counter(all_invalids).most_common()[:10]]"
   ]
  },
  {
   "cell_type": "code",
   "execution_count": 334,
   "metadata": {},
   "outputs": [
    {
     "data": {
      "text/plain": [
       "{10, 16, 18, 25, 26, 27, 35, 36, 37}"
      ]
     },
     "execution_count": 334,
     "metadata": {},
     "output_type": "execute_result"
    }
   ],
   "source": [
    "set([item[0] for item in Counter(all_invalids).most_common()[:15]])  &   set((-invalid_degrees).argsort()[:10])"
   ]
  },
  {
   "cell_type": "code",
   "execution_count": 348,
   "metadata": {},
   "outputs": [],
   "source": [
    "d313_m = d313_.iloc[np.setdiff1d(np.arange(40), [18, 27, 25, 10, 17, 16]), :].mean()"
   ]
  },
  {
   "cell_type": "markdown",
   "metadata": {},
   "source": [
    "## 用 pauta criterion 删除异常样本"
   ]
  },
  {
   "cell_type": "code",
   "execution_count": 356,
   "metadata": {},
   "outputs": [
    {
     "name": "stdout",
     "output_type": "stream",
     "text": [
      "0\n"
     ]
    }
   ],
   "source": [
    "cur_df = d285_\n",
    "\n",
    "mean = cur_df.mean()\n",
    "std = cur_df.std()\n",
    "cnt = 0\n",
    "for i, sample in cur_df.iterrows():\n",
    "    if np.any(np.abs(sample - mean) > std * 3):\n",
    "        print(i)\n",
    "        cnt += 1\n",
    "print(cnt)"
   ]
  },
  {
   "cell_type": "code",
   "execution_count": 358,
   "metadata": {
    "scrolled": true
   },
   "outputs": [
    {
     "name": "stdout",
     "output_type": "stream",
     "text": [
      "0\n",
      "3\n",
      "4\n",
      "5\n",
      "7\n",
      "9\n",
      "10\n",
      "11\n",
      "12\n",
      "13\n",
      "15\n",
      "17\n",
      "20\n",
      "21\n",
      "23\n",
      "24\n",
      "25\n",
      "26\n",
      "27\n",
      "28\n",
      "31\n",
      "32\n",
      "34\n",
      "36\n",
      "37\n",
      "38\n",
      "39\n",
      "27\n"
     ]
    }
   ],
   "source": [
    "cur_df = d313_\n",
    "\n",
    "mean = cur_df.mean()\n",
    "std = cur_df.std()\n",
    "cnt = 0\n",
    "invalids = []\n",
    "for i, sample in cur_df.iterrows():\n",
    "    if np.any(np.abs(sample - mean) > std * 3):\n",
    "        print(i)\n",
    "        invalids.append(i)\n",
    "        cnt += 1\n",
    "print(cnt)"
   ]
  },
  {
   "cell_type": "code",
   "execution_count": 371,
   "metadata": {},
   "outputs": [],
   "source": [
    "d313_m = d313_.iloc[np.setdiff1d(np.arange(40), np.union1d([18, 27, 25, 10, 17, 16], invalids)), :].mean()"
   ]
  },
  {
   "cell_type": "code",
   "execution_count": 364,
   "metadata": {},
   "outputs": [
    {
     "data": {
      "text/plain": [
       "array([ 1,  2,  6,  8, 14, 19, 22, 29, 30, 33, 35])"
      ]
     },
     "execution_count": 364,
     "metadata": {},
     "output_type": "execute_result"
    }
   ],
   "source": [
    "np.setdiff1d(np.arange(40), np.union1d([18, 27, 25, 10, 17, 16], invalids))"
   ]
  },
  {
   "cell_type": "code",
   "execution_count": 368,
   "metadata": {},
   "outputs": [
    {
     "data": {
      "text/plain": [
       "29"
      ]
     },
     "execution_count": 368,
     "metadata": {},
     "output_type": "execute_result"
    }
   ],
   "source": [
    "np.union1d([18, 27, 25, 10, 17, 16], invalids).size"
   ]
  },
  {
   "cell_type": "markdown",
   "metadata": {},
   "source": [
    "## 将285与313的数据赋值到df"
   ]
  },
  {
   "cell_type": "code",
   "execution_count": 403,
   "metadata": {},
   "outputs": [
    {
     "data": {
      "text/plain": [
       "0"
      ]
     },
     "execution_count": 403,
     "metadata": {},
     "output_type": "execute_result"
    }
   ],
   "source": [
    "pd.isna(d313_m).sum()"
   ]
  },
  {
   "cell_type": "code",
   "execution_count": 372,
   "metadata": {},
   "outputs": [
    {
     "data": {
      "text/plain": [
       "氢油比                    2.621217e-01\n",
       "反应过滤器压差                1.722987e+01\n",
       "还原器压力                  2.416984e+00\n",
       "还原器流化氢气流量              8.505484e+02\n",
       "反应器上部温度                4.249020e+02\n",
       "                           ...     \n",
       "8.0MPa氢气至循环氢压缩机入口      2.023978e+03\n",
       "8.0MPa氢气至循环氢压缩机入口.1    2.149370e+06\n",
       "8.0MPa氢气至反吹氢压缩机出口      2.494629e+03\n",
       "8.0MPa氢气至反吹氢压缩机出口.1    2.153988e+06\n",
       "D101原料缓冲罐压力           -1.133767e+02\n",
       "Length: 354, dtype: float64"
      ]
     },
     "execution_count": 372,
     "metadata": {},
     "output_type": "execute_result"
    }
   ],
   "source": [
    "d313_m"
   ]
  },
  {
   "cell_type": "code",
   "execution_count": 376,
   "metadata": {},
   "outputs": [],
   "source": [
    "d285_m = d285_.mean()"
   ]
  },
  {
   "cell_type": "code",
   "execution_count": 377,
   "metadata": {},
   "outputs": [
    {
     "data": {
      "text/plain": [
       "氢油比                    2.733991e-01\n",
       "反应过滤器压差                2.420824e+01\n",
       "还原器压力                  2.528870e+00\n",
       "还原器流化氢气流量              8.558825e+02\n",
       "反应器上部温度                4.215093e+02\n",
       "                           ...     \n",
       "8.0MPa氢气至循环氢压缩机入口      2.200789e+03\n",
       "8.0MPa氢气至循环氢压缩机入口.1    5.149259e+06\n",
       "8.0MPa氢气至反吹氢压缩机出口      2.846897e+03\n",
       "8.0MPa氢气至反吹氢压缩机出口.1    5.984749e+06\n",
       "D101原料缓冲罐压力           -9.721070e+01\n",
       "Length: 354, dtype: float64"
      ]
     },
     "execution_count": 377,
     "metadata": {},
     "output_type": "execute_result"
    }
   ],
   "source": [
    "d285_m"
   ]
  },
  {
   "cell_type": "code",
   "execution_count": 409,
   "metadata": {},
   "outputs": [],
   "source": [
    "df.iloc[312, 15:] = d313_m.values"
   ]
  },
  {
   "cell_type": "code",
   "execution_count": 410,
   "metadata": {},
   "outputs": [],
   "source": [
    "df.iloc[284, 15:] = d285_m.values"
   ]
  },
  {
   "cell_type": "code",
   "execution_count": 411,
   "metadata": {},
   "outputs": [
    {
     "data": {
      "text/plain": [
       "0"
      ]
     },
     "execution_count": 411,
     "metadata": {},
     "output_type": "execute_result"
    }
   ],
   "source": [
    "df.isna().sum().sum()"
   ]
  },
  {
   "cell_type": "markdown",
   "metadata": {},
   "source": [
    "# 探索性建模"
   ]
  },
  {
   "cell_type": "code",
   "execution_count": 317,
   "metadata": {},
   "outputs": [],
   "source": [
    "df.to_csv(\"raw_data.csv\", index=False)"
   ]
  },
  {
   "cell_type": "code",
   "execution_count": 318,
   "metadata": {},
   "outputs": [],
   "source": [
    "df = pd.read_csv(\"raw_data.csv\")"
   ]
  },
  {
   "cell_type": "code",
   "execution_count": 184,
   "metadata": {},
   "outputs": [],
   "source": [
    "from sklearn.preprocessing import StandardScaler"
   ]
  },
  {
   "cell_type": "code",
   "execution_count": 185,
   "metadata": {},
   "outputs": [],
   "source": [
    "from sklearn.preprocessing import MinMaxScaler"
   ]
  },
  {
   "cell_type": "code",
   "execution_count": 186,
   "metadata": {},
   "outputs": [],
   "source": [
    "from sklearn.preprocessing import PowerTransformer"
   ]
  },
  {
   "cell_type": "code",
   "execution_count": 187,
   "metadata": {},
   "outputs": [],
   "source": [
    "from sklearn.preprocessing import QuantileTransformer"
   ]
  },
  {
   "cell_type": "code",
   "execution_count": 190,
   "metadata": {},
   "outputs": [
    {
     "data": {
      "text/plain": [
       "sample_index\n",
       "1      1.38\n",
       "2      1.18\n",
       "3      1.38\n",
       "4      1.38\n",
       "5      1.28\n",
       "       ... \n",
       "321    1.15\n",
       "322    1.25\n",
       "323    1.35\n",
       "324    1.28\n",
       "325    1.25\n",
       "Name: RON损失\\n（不是变量）, Length: 325, dtype: float64"
      ]
     },
     "execution_count": 190,
     "metadata": {},
     "output_type": "execute_result"
    }
   ],
   "source": [
    "y = df[\"RON损失\\n（不是变量）\"]"
   ]
  },
  {
   "cell_type": "code",
   "execution_count": 464,
   "metadata": {},
   "outputs": [],
   "source": [
    "X_2 = X_.copy()"
   ]
  },
  {
   "cell_type": "code",
   "execution_count": 465,
   "metadata": {},
   "outputs": [],
   "source": [
    "y = X_2.pop(\"RON_loss\")"
   ]
  },
  {
   "cell_type": "code",
   "execution_count": 466,
   "metadata": {},
   "outputs": [],
   "source": [
    "X = X_2"
   ]
  },
  {
   "cell_type": "code",
   "execution_count": 198,
   "metadata": {},
   "outputs": [],
   "source": [
    "from sklearn.preprocessing import StandardScaler"
   ]
  },
  {
   "cell_type": "code",
   "execution_count": 199,
   "metadata": {},
   "outputs": [],
   "source": [
    "from sklearn.pipeline import Pipeline"
   ]
  },
  {
   "cell_type": "code",
   "execution_count": 200,
   "metadata": {},
   "outputs": [],
   "source": [
    "from sklearn.decomposition import PCA, FastICA"
   ]
  },
  {
   "cell_type": "code",
   "execution_count": 229,
   "metadata": {},
   "outputs": [],
   "source": [
    "from sklearn.linear_model import Ridge"
   ]
  },
  {
   "cell_type": "code",
   "execution_count": 239,
   "metadata": {},
   "outputs": [
    {
     "name": "stdout",
     "output_type": "stream",
     "text": [
      "Collecting lightgbm\n",
      "  Downloading lightgbm-3.0.0-py2.py3-none-win_amd64.whl (737 kB)\n",
      "Requirement already satisfied: numpy in c:\\software\\miniconda3\\lib\\site-packages (from lightgbm) (1.19.1)\n",
      "Requirement already satisfied: scipy in c:\\software\\miniconda3\\lib\\site-packages (from lightgbm) (1.5.2)\n",
      "Requirement already satisfied: scikit-learn!=0.22.0 in c:\\software\\miniconda3\\lib\\site-packages (from lightgbm) (0.23.2)\n",
      "Requirement already satisfied: threadpoolctl>=2.0.0 in c:\\software\\miniconda3\\lib\\site-packages (from scikit-learn!=0.22.0->lightgbm) (2.1.0)\n",
      "Requirement already satisfied: joblib>=0.11 in c:\\software\\miniconda3\\lib\\site-packages (from scikit-learn!=0.22.0->lightgbm) (0.16.0)\n",
      "Installing collected packages: lightgbm\n",
      "Successfully installed lightgbm-3.0.0\n"
     ]
    }
   ],
   "source": [
    "!pip install lightgbm"
   ]
  },
  {
   "cell_type": "code",
   "execution_count": null,
   "metadata": {},
   "outputs": [],
   "source": []
  },
  {
   "cell_type": "code",
   "execution_count": 204,
   "metadata": {},
   "outputs": [],
   "source": [
    "from sklearn.model_selection import KFold, train_test_split"
   ]
  },
  {
   "cell_type": "code",
   "execution_count": 210,
   "metadata": {},
   "outputs": [],
   "source": [
    "X = X.astype(float)"
   ]
  },
  {
   "cell_type": "code",
   "execution_count": 223,
   "metadata": {},
   "outputs": [],
   "source": [
    "y = y.astype(float).to_numpy()"
   ]
  },
  {
   "cell_type": "code",
   "execution_count": 469,
   "metadata": {},
   "outputs": [],
   "source": [
    "X_train, X_test, y_train, y_test = train_test_split(\n",
    "     X, y, test_size=0.33, random_state=42)"
   ]
  },
  {
   "cell_type": "code",
   "execution_count": 228,
   "metadata": {},
   "outputs": [
    {
     "data": {
      "text/plain": [
       "dtype('float64')"
      ]
     },
     "execution_count": 228,
     "metadata": {},
     "output_type": "execute_result"
    }
   ],
   "source": [
    "y_train.dtype"
   ]
  },
  {
   "cell_type": "code",
   "execution_count": 261,
   "metadata": {},
   "outputs": [],
   "source": [
    "from lightgbm import LGBMRegressor"
   ]
  },
  {
   "cell_type": "code",
   "execution_count": 264,
   "metadata": {},
   "outputs": [],
   "source": [
    "from sklearn.ensemble import RandomForestRegressor, ExtraTreesRegressor, GradientBoostingRegressor"
   ]
  },
  {
   "cell_type": "code",
   "execution_count": 525,
   "metadata": {},
   "outputs": [],
   "source": [
    "from sklearn.linear_model import ElasticNet, BayesianRidge, Lasso"
   ]
  },
  {
   "cell_type": "code",
   "execution_count": 293,
   "metadata": {},
   "outputs": [],
   "source": [
    "from sklearn.feature_selection import SelectFromModel"
   ]
  },
  {
   "cell_type": "code",
   "execution_count": 532,
   "metadata": {},
   "outputs": [],
   "source": [
    "from sklearn.preprocessing import RobustScaler"
   ]
  },
  {
   "cell_type": "code",
   "execution_count": 573,
   "metadata": {},
   "outputs": [
    {
     "data": {
      "text/plain": [
       "0.2941971260876282"
      ]
     },
     "execution_count": 573,
     "metadata": {},
     "output_type": "execute_result"
    }
   ],
   "source": [
    "X_trans.std()"
   ]
  },
  {
   "cell_type": "code",
   "execution_count": 632,
   "metadata": {},
   "outputs": [],
   "source": [
    "selector = SelectFromModel(estimator=GradientBoostingRegressor(random_state=0))"
   ]
  },
  {
   "cell_type": "code",
   "execution_count": 642,
   "metadata": {},
   "outputs": [
    {
     "name": "stderr",
     "output_type": "stream",
     "text": [
      "c:\\software\\miniconda3\\lib\\site-packages\\sklearn\\preprocessing\\_data.py:2370: UserWarning: n_quantiles (1000) is greater than the total number of samples (325). n_quantiles is set to n_samples.\n",
      "  % (self.n_quantiles, n_samples))\n"
     ]
    }
   ],
   "source": [
    "X_ = QuantileTransformer(n_quantiles=1000).fit_transform(X)"
   ]
  },
  {
   "cell_type": "code",
   "execution_count": 643,
   "metadata": {},
   "outputs": [],
   "source": [
    "X_ = selector.fit_transform(X, y)"
   ]
  },
  {
   "cell_type": "code",
   "execution_count": 644,
   "metadata": {},
   "outputs": [],
   "source": [
    "X_ = selector.fit_transform(X_, y)"
   ]
  },
  {
   "cell_type": "code",
   "execution_count": 645,
   "metadata": {},
   "outputs": [
    {
     "data": {
      "text/plain": [
       "(325, 26)"
      ]
     },
     "execution_count": 645,
     "metadata": {},
     "output_type": "execute_result"
    }
   ],
   "source": [
    "X_.shape"
   ]
  },
  {
   "cell_type": "code",
   "execution_count": 639,
   "metadata": {},
   "outputs": [],
   "source": [
    "X_train, X_test, y_train, y_test = train_test_split(\n",
    "     X_, y, test_size=0.33, random_state=42)"
   ]
  },
  {
   "cell_type": "code",
   "execution_count": 648,
   "metadata": {},
   "outputs": [],
   "source": [
    "pipeline = Pipeline([\n",
    "#     (\"scale\", StandardScaler()),\n",
    "#     (\"scale2\", RobustScaler()),\n",
    "    (\"transform\", QuantileTransformer(n_quantiles=1000)),\n",
    "#     (\"select\", SelectFromModel(estimator=GradientBoostingRegressor(random_state=0))),\n",
    "#     (\"pca\", PCA(n_components=30)),\n",
    "#     (\"ica\", FastICA(n_components=15)),\n",
    "     (\"regressor\", LGBMRegressor(random_state=0, n_estimators=100, learning_rate=0.1)),\n",
    "#     (\"regressor\", BayesianRidge(normalize=True)),\n",
    "])"
   ]
  },
  {
   "cell_type": "code",
   "execution_count": 649,
   "metadata": {},
   "outputs": [
    {
     "name": "stderr",
     "output_type": "stream",
     "text": [
      "c:\\software\\miniconda3\\lib\\site-packages\\sklearn\\preprocessing\\_data.py:2370: UserWarning: n_quantiles (1000) is greater than the total number of samples (260). n_quantiles is set to n_samples.\n",
      "  % (self.n_quantiles, n_samples))\n",
      "c:\\software\\miniconda3\\lib\\site-packages\\sklearn\\preprocessing\\_data.py:2370: UserWarning: n_quantiles (1000) is greater than the total number of samples (260). n_quantiles is set to n_samples.\n",
      "  % (self.n_quantiles, n_samples))\n",
      "c:\\software\\miniconda3\\lib\\site-packages\\sklearn\\preprocessing\\_data.py:2370: UserWarning: n_quantiles (1000) is greater than the total number of samples (260). n_quantiles is set to n_samples.\n",
      "  % (self.n_quantiles, n_samples))\n",
      "c:\\software\\miniconda3\\lib\\site-packages\\sklearn\\preprocessing\\_data.py:2370: UserWarning: n_quantiles (1000) is greater than the total number of samples (260). n_quantiles is set to n_samples.\n",
      "  % (self.n_quantiles, n_samples))\n",
      "c:\\software\\miniconda3\\lib\\site-packages\\sklearn\\preprocessing\\_data.py:2370: UserWarning: n_quantiles (1000) is greater than the total number of samples (260). n_quantiles is set to n_samples.\n",
      "  % (self.n_quantiles, n_samples))\n"
     ]
    },
    {
     "data": {
      "text/plain": [
       "0.38709457699393846"
      ]
     },
     "execution_count": 649,
     "metadata": {},
     "output_type": "execute_result"
    }
   ],
   "source": [
    "cross_val_score(pipeline, X_, y, cv=cv).mean()"
   ]
  },
  {
   "cell_type": "code",
   "execution_count": 624,
   "metadata": {},
   "outputs": [],
   "source": [
    "pipeline = Pipeline([\n",
    "    (\"scale\", StandardScaler()),\n",
    "    (\"scale2\", RobustScaler()),\n",
    "    (\"transform\", QuantileTransformer(n_quantiles=2000)),\n",
    "#     (\"select\", SelectFromModel(estimator=GradientBoostingRegressor(random_state=0))),\n",
    "    (\"pca\", PCA(n_components=30)),\n",
    "    (\"ica\", FastICA(n_components=15)),\n",
    "#      (\"regressor\", LGBMRegressor(random_state=0, n_estimators=100, learning_rate=0.1)),\n",
    "    (\"regressor\", BayesianRidge(normalize=True)),\n",
    "])"
   ]
  },
  {
   "cell_type": "code",
   "execution_count": 625,
   "metadata": {},
   "outputs": [
    {
     "name": "stderr",
     "output_type": "stream",
     "text": [
      "c:\\software\\miniconda3\\lib\\site-packages\\sklearn\\preprocessing\\_data.py:2370: UserWarning: n_quantiles (2000) is greater than the total number of samples (260). n_quantiles is set to n_samples.\n",
      "  % (self.n_quantiles, n_samples))\n",
      "c:\\software\\miniconda3\\lib\\site-packages\\sklearn\\preprocessing\\_data.py:2370: UserWarning: n_quantiles (2000) is greater than the total number of samples (260). n_quantiles is set to n_samples.\n",
      "  % (self.n_quantiles, n_samples))\n",
      "c:\\software\\miniconda3\\lib\\site-packages\\sklearn\\preprocessing\\_data.py:2370: UserWarning: n_quantiles (2000) is greater than the total number of samples (260). n_quantiles is set to n_samples.\n",
      "  % (self.n_quantiles, n_samples))\n",
      "c:\\software\\miniconda3\\lib\\site-packages\\sklearn\\preprocessing\\_data.py:2370: UserWarning: n_quantiles (2000) is greater than the total number of samples (260). n_quantiles is set to n_samples.\n",
      "  % (self.n_quantiles, n_samples))\n",
      "c:\\software\\miniconda3\\lib\\site-packages\\sklearn\\preprocessing\\_data.py:2370: UserWarning: n_quantiles (2000) is greater than the total number of samples (260). n_quantiles is set to n_samples.\n",
      "  % (self.n_quantiles, n_samples))\n"
     ]
    },
    {
     "data": {
      "text/plain": [
       "0.16148203548560197"
      ]
     },
     "execution_count": 625,
     "metadata": {},
     "output_type": "execute_result"
    }
   ],
   "source": [
    "cross_val_score(pipeline, X_, y, cv=cv).mean()"
   ]
  },
  {
   "cell_type": "code",
   "execution_count": 623,
   "metadata": {},
   "outputs": [
    {
     "data": {
      "text/plain": [
       "(325, 349)"
      ]
     },
     "execution_count": 623,
     "metadata": {},
     "output_type": "execute_result"
    }
   ],
   "source": [
    "X.shape"
   ]
  },
  {
   "cell_type": "code",
   "execution_count": 640,
   "metadata": {},
   "outputs": [
    {
     "name": "stderr",
     "output_type": "stream",
     "text": [
      "c:\\software\\miniconda3\\lib\\site-packages\\sklearn\\preprocessing\\_data.py:2370: UserWarning: n_quantiles (1000) is greater than the total number of samples (217). n_quantiles is set to n_samples.\n",
      "  % (self.n_quantiles, n_samples))\n"
     ]
    },
    {
     "data": {
      "text/plain": [
       "0.11742715140447113"
      ]
     },
     "execution_count": 640,
     "metadata": {},
     "output_type": "execute_result"
    }
   ],
   "source": [
    "pipeline.fit(X_train, y_train)\n",
    "pipeline.score(X_test, y_test)"
   ]
  },
  {
   "cell_type": "code",
   "execution_count": 480,
   "metadata": {},
   "outputs": [
    {
     "name": "stderr",
     "output_type": "stream",
     "text": [
      "c:\\software\\miniconda3\\lib\\site-packages\\sklearn\\preprocessing\\_data.py:2370: UserWarning: n_quantiles (2000) is greater than the total number of samples (217). n_quantiles is set to n_samples.\n",
      "  % (self.n_quantiles, n_samples))\n"
     ]
    },
    {
     "data": {
      "text/plain": [
       "0.12825366796013127"
      ]
     },
     "execution_count": 480,
     "metadata": {},
     "output_type": "execute_result"
    }
   ],
   "source": [
    "pipeline.fit(X_train, y_train)\n",
    "pipeline.score(X_test, y_test)"
   ]
  },
  {
   "cell_type": "code",
   "execution_count": 296,
   "metadata": {},
   "outputs": [],
   "source": [
    "y_pred = pipeline.predict(X_test)"
   ]
  },
  {
   "cell_type": "code",
   "execution_count": 299,
   "metadata": {},
   "outputs": [],
   "source": [
    "from sklearn.model_selection import cross_val_score"
   ]
  },
  {
   "cell_type": "code",
   "execution_count": 297,
   "metadata": {},
   "outputs": [],
   "source": [
    "import pylab as plt"
   ]
  },
  {
   "cell_type": "code",
   "execution_count": 473,
   "metadata": {},
   "outputs": [],
   "source": [
    "cv = KFold(n_splits=5, shuffle=True, random_state=0)"
   ]
  },
  {
   "cell_type": "code",
   "execution_count": 474,
   "metadata": {},
   "outputs": [
    {
     "name": "stderr",
     "output_type": "stream",
     "text": [
      "c:\\software\\miniconda3\\lib\\site-packages\\sklearn\\preprocessing\\_data.py:2370: UserWarning: n_quantiles (2000) is greater than the total number of samples (260). n_quantiles is set to n_samples.\n",
      "  % (self.n_quantiles, n_samples))\n",
      "c:\\software\\miniconda3\\lib\\site-packages\\sklearn\\preprocessing\\_data.py:2370: UserWarning: n_quantiles (2000) is greater than the total number of samples (260). n_quantiles is set to n_samples.\n",
      "  % (self.n_quantiles, n_samples))\n",
      "c:\\software\\miniconda3\\lib\\site-packages\\sklearn\\preprocessing\\_data.py:2370: UserWarning: n_quantiles (2000) is greater than the total number of samples (260). n_quantiles is set to n_samples.\n",
      "  % (self.n_quantiles, n_samples))\n",
      "c:\\software\\miniconda3\\lib\\site-packages\\sklearn\\preprocessing\\_data.py:2370: UserWarning: n_quantiles (2000) is greater than the total number of samples (260). n_quantiles is set to n_samples.\n",
      "  % (self.n_quantiles, n_samples))\n",
      "c:\\software\\miniconda3\\lib\\site-packages\\sklearn\\preprocessing\\_data.py:2370: UserWarning: n_quantiles (2000) is greater than the total number of samples (260). n_quantiles is set to n_samples.\n",
      "  % (self.n_quantiles, n_samples))\n"
     ]
    },
    {
     "data": {
      "text/plain": [
       "array([0.24387199, 0.08346677, 0.21650902, 0.13021928, 0.08092405])"
      ]
     },
     "execution_count": 474,
     "metadata": {},
     "output_type": "execute_result"
    }
   ],
   "source": [
    "cross_val_score(pipeline, X, y, cv=cv).mean()"
   ]
  },
  {
   "cell_type": "code",
   "execution_count": 475,
   "metadata": {},
   "outputs": [
    {
     "data": {
      "text/plain": [
       "0.15099822053057504"
      ]
     },
     "execution_count": 475,
     "metadata": {},
     "output_type": "execute_result"
    }
   ],
   "source": [
    "_.mean()"
   ]
  },
  {
   "cell_type": "code",
   "execution_count": 309,
   "metadata": {},
   "outputs": [
    {
     "name": "stderr",
     "output_type": "stream",
     "text": [
      "c:\\software\\miniconda3\\lib\\site-packages\\sklearn\\preprocessing\\_data.py:2370: UserWarning: n_quantiles (2000) is greater than the total number of samples (325). n_quantiles is set to n_samples.\n",
      "  % (self.n_quantiles, n_samples))\n"
     ]
    },
    {
     "data": {
      "text/plain": [
       "Pipeline(steps=[('scale', StandardScaler()),\n",
       "                ('transform', QuantileTransformer(n_quantiles=2000)),\n",
       "                ('select', SelectFromModel(estimator=ExtraTreesRegressor())),\n",
       "                ('pca', PCA(n_components=30)),\n",
       "                ('ica', FastICA(n_components=15)),\n",
       "                ('regressor', BayesianRidge(normalize=True))])"
      ]
     },
     "execution_count": 309,
     "metadata": {},
     "output_type": "execute_result"
    }
   ],
   "source": [
    "pipeline.fit(X, y)"
   ]
  },
  {
   "cell_type": "code",
   "execution_count": 310,
   "metadata": {},
   "outputs": [],
   "source": [
    "y_pred = pipeline.predict(X)"
   ]
  },
  {
   "cell_type": "code",
   "execution_count": 311,
   "metadata": {},
   "outputs": [
    {
     "data": {
      "text/plain": [
       "<matplotlib.collections.PathCollection at 0x1f780e7d248>"
      ]
     },
     "execution_count": 311,
     "metadata": {},
     "output_type": "execute_result"
    },
    {
     "data": {
      "image/png": "[encoded data removed]",
      "text/plain": [
       "<Figure size 432x288 with 1 Axes>"
      ]
     },
     "metadata": {
      "needs_background": "light"
     },
     "output_type": "display_data"
    }
   ],
   "source": [
    "plt.scatter(y, y_pred)"
   ]
  },
  {
   "cell_type": "code",
   "execution_count": 315,
   "metadata": {},
   "outputs": [],
   "source": [
    "from sklearn.metrics import r2_score, mean_squared_error, median_absolute_error"
   ]
  },
  {
   "cell_type": "code",
   "execution_count": 314,
   "metadata": {},
   "outputs": [
    {
     "data": {
      "text/plain": [
       "0.2551673906107038"
      ]
     },
     "execution_count": 314,
     "metadata": {},
     "output_type": "execute_result"
    }
   ],
   "source": []
  },
  {
   "cell_type": "code",
   "execution_count": 298,
   "metadata": {},
   "outputs": [
    {
     "data": {
      "text/plain": [
       "<matplotlib.collections.PathCollection at 0x1f780e70e48>"
      ]
     },
     "execution_count": 298,
     "metadata": {},
     "output_type": "execute_result"
    },
    {
     "data": {
      "image/png": "[encoded data removed]",
      "text/plain": [
       "<Figure size 432x288 with 1 Axes>"
      ]
     },
     "metadata": {
      "needs_background": "light"
     },
     "output_type": "display_data"
    }
   ],
   "source": [
    "plt.scatter(y_test, y_pred)"
   ]
  },
  {
   "cell_type": "code",
   "execution_count": null,
   "metadata": {},
   "outputs": [],
   "source": []
  }
 ],
 "metadata": {
  "kernelspec": {
   "display_name": "Python 3",
   "language": "python",
   "name": "python3"
  },
  "language_info": {
   "codemirror_mode": {
    "name": "ipython",
    "version": 3
   },
   "file_extension": ".py",
   "mimetype": "text/x-python",
   "name": "python",
   "nbconvert_exporter": "python",
   "pygments_lexer": "ipython3",
   "version": "3.7.7"
  },
  "toc-autonumbering": true,
  "toc-showcode": false,
  "toc-showmarkdowntxt": false,
  "toc-showtags": false
 },
 "nbformat": 4,
 "nbformat_minor": 4
}
